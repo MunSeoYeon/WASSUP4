{
 "cells": [
  {
   "cell_type": "code",
   "execution_count": 10,
   "id": "38193f9f-4ff9-4ddd-ad12-f2ba47708cf4",
   "metadata": {
    "scrolled": true
   },
   "outputs": [],
   "source": [
    "f = open(r\"C:\\workspace\\WASSUP4\\OUTPUT\\test.txt\", 'w')\n",
    "f.close()"
   ]
  },
  {
   "cell_type": "code",
   "execution_count": 11,
   "id": "90f738b4-eed4-4378-9bd8-82f463716c3e",
   "metadata": {},
   "outputs": [],
   "source": [
    "# readline 함수\n",
    "f = open(r\"C:\\workspace\\WASSUP4\\OUTPUT\\test.txt\", 'r')\n",
    "lines = f.readline()\n",
    "for line in lines:\n",
    "    print(line)\n",
    "f.close()"
   ]
  },
  {
   "cell_type": "markdown",
   "id": "d7c2cd5e-7dbf-48ed-857e-1914fed72ea9",
   "metadata": {},
   "source": [
    "## quiz\n",
    "\n",
    "메모장을 읽어올때 줄바꿈을 없애보세요."
   ]
  },
  {
   "cell_type": "code",
   "execution_count": 13,
   "id": "8a11191c-7b26-4608-93c9-2127d476e764",
   "metadata": {},
   "outputs": [],
   "source": [
    "f = open(r\"C:\\workspace\\WASSUP4\\OUTPUT\\test.txt\", 'r')\n",
    "lines = f.readlines()\n",
    "for line in lines : \n",
    "    print(line.strip()) # 줄 끝의 줄 바꿈 문자를 제거한다.\n",
    "f.close()"
   ]
  },
  {
   "cell_type": "code",
   "execution_count": 14,
   "id": "b6b3b820-a157-4208-a6ea-c7ce3befe208",
   "metadata": {},
   "outputs": [
    {
     "ename": "NameError",
     "evalue": "name 'data' is not defined",
     "output_type": "error",
     "traceback": [
      "\u001b[1;31m---------------------------------------------------------------------------\u001b[0m",
      "\u001b[1;31mNameError\u001b[0m                                 Traceback (most recent call last)",
      "Cell \u001b[1;32mIn[14], line 4\u001b[0m\n\u001b[0;32m      2\u001b[0m f \u001b[38;5;241m=\u001b[39m \u001b[38;5;28mopen\u001b[39m(\u001b[38;5;124mr\u001b[39m\u001b[38;5;124m\"\u001b[39m\u001b[38;5;124mC:\u001b[39m\u001b[38;5;124m\\\u001b[39m\u001b[38;5;124mworkspace\u001b[39m\u001b[38;5;124m\\\u001b[39m\u001b[38;5;124mWASSUP4\u001b[39m\u001b[38;5;124m\\\u001b[39m\u001b[38;5;124mOUTPUT\u001b[39m\u001b[38;5;124m\\\u001b[39m\u001b[38;5;124mtest.txt\u001b[39m\u001b[38;5;124m\"\u001b[39m, \u001b[38;5;124m'\u001b[39m\u001b[38;5;124mr\u001b[39m\u001b[38;5;124m'\u001b[39m)\n\u001b[0;32m      3\u001b[0m lines \u001b[38;5;241m=\u001b[39m f\u001b[38;5;241m.\u001b[39mread()\n\u001b[1;32m----> 4\u001b[0m \u001b[38;5;28mprint\u001b[39m(\u001b[38;5;28mtype\u001b[39m(data))\n",
      "\u001b[1;31mNameError\u001b[0m: name 'data' is not defined"
     ]
    }
   ],
   "source": [
    "# read함수 사용하기\n",
    "f = open(r\"C:\\workspace\\WASSUP4\\OUTPUT\\test.txt\", 'r')\n",
    "lines = f.read()\n",
    "print(type(data))"
   ]
  },
  {
   "cell_type": "markdown",
   "id": "21a8eadd-e518-4ae6-92b1-61532757fbce",
   "metadata": {},
   "source": [
    "### 파일에 새로운 내용 추가하기"
   ]
  },
  {
   "cell_type": "code",
   "execution_count": null,
   "id": "90dc80f5-30fb-4126-8983-5a86ecc03ec2",
   "metadata": {},
   "outputs": [],
   "source": [
    "f = open(\"C:/doit/새파일.txt\",'a')\n",
    "for i in range(11, 20):\n",
    "    data = \"%d번째 줄입니다.\\n\" % i\n",
    "    f.write(data)\n",
    "f.close()"
   ]
  }
 ],
 "metadata": {
  "kernelspec": {
   "display_name": "Python 3 (ipykernel)",
   "language": "python",
   "name": "python3"
  },
  "language_info": {
   "codemirror_mode": {
    "name": "ipython",
    "version": 3
   },
   "file_extension": ".py",
   "mimetype": "text/x-python",
   "name": "python",
   "nbconvert_exporter": "python",
   "pygments_lexer": "ipython3",
   "version": "3.12.4"
  }
 },
 "nbformat": 4,
 "nbformat_minor": 5
}
