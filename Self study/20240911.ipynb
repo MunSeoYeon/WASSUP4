{
 "cells": [
  {
   "cell_type": "code",
   "execution_count": 6,
   "id": "11ce6d32-3ca1-48ac-a9af-06bad1f8b677",
   "metadata": {},
   "outputs": [
    {
     "name": "stdin",
     "output_type": "stream",
     "text": [
      "ID를 입력하세요. joonas\n"
     ]
    },
    {
     "name": "stdout",
     "output_type": "stream",
     "text": [
      "joonas??!\n"
     ]
    }
   ],
   "source": [
    "ID = input(\"ID를 입력하세요.\")\n",
    "    \n",
    "print(ID + \"??!\")"
   ]
  },
  {
   "cell_type": "code",
   "execution_count": null,
   "id": "d1480af0-fce6-4ed6-8888-b84566ab6095",
   "metadata": {},
   "outputs": [],
   "source": []
  },
  {
   "cell_type": "code",
   "execution_count": null,
   "id": "e5d32f4e-7c4c-4391-bff4-c4440bc61eb8",
   "metadata": {},
   "outputs": [],
   "source": []
  }
 ],
 "metadata": {
  "kernelspec": {
   "display_name": "Python 3 (ipykernel)",
   "language": "python",
   "name": "python3"
  },
  "language_info": {
   "codemirror_mode": {
    "name": "ipython",
    "version": 3
   },
   "file_extension": ".py",
   "mimetype": "text/x-python",
   "name": "python",
   "nbconvert_exporter": "python",
   "pygments_lexer": "ipython3",
   "version": "3.12.4"
  }
 },
 "nbformat": 4,
 "nbformat_minor": 5
}
