# 001 print 기초
print("Hello World")


#002
print("Mary's cosmetics")


#003
print('신씨가 소리질렀다. "도둑이야".')


#004
print("C:\Windows")


#005
print("안녕하세요.\n만나서\t\t반갑습니다.") 
#`\t`는 탭을 의미하고 `\n'`은 줄바꿈을 의미


#006
print ("오늘은", "일요일") # 오늘은 일요일


#007
print('naver', 'kakao', 'samsung', sep=";")


#008
print('naver', 'kakao', 'samsung', sep="/")


#009
print("first", end='');print("second")


#010
print(5/3)


#파이썬 변수 
#011
삼성전자 = 50000
총평가금액 = 삼성전자 * 10
print(총평가금액)


#012
시가총액 = 298000000000000
현재가 = 50000
PER = 15.79
print(시가총액, type(시가총액))
print(현재가, type(현재가))
print(PER, type(PER))


#013
s = "hello"
t = "python"
print(s + '!', t)


#014
2 + 2 * 3 


#015
a = "132"
print (type(a))


#016
num_str = "720"  #형변환
num_int = int(num_str)
print(num_int+1, type(num_int))


#17
num = 100
result = str(num)
print(result, type(result))


#18
data = "15.79"
data = float(data)
data



#019
year = "2020"
print(int(year)-3)  
print(int(year)-2)  
print(int(year)-1) 


#020
월 = 48584
총금액 = 월 * 36
print(총금액)


#021
letters = 'python'
print(letters[0], letters[2])


#022
license_plate = "24가 2210"
print(license_plate[-4:])


#023
string = "홀짝홀짝홀짝"
print(string[::2])


#024
string = "PYTHON"
print(string[::-1])


#025 아래의 전화번호에서 하이푼 ('-')을 제거하고 출력하세요.
phone_number = "010-1111-2222"
phone_number1 = phone_number.replace("-", " ")
print(phone_number1)


#026
phone_number = "010-1111-2222"
phone_number1 = phone_number.replace('-', '')
print(phone_number1)


#027
url = "http://sharebook.kr"
url_split = url.split('.')
print(url_split[-1])


#028
lang = 'python'
lang[0] = 'P'
print(lang)


#029
string = 'abcdfe2a354a32a'
string1 =string.replace('a', 'A')
string1


#030
string = 'abcd'
string.replace('b', 'B')
print(string1)            # aBcd


#031a = "3"
a = "3"
b = "4"
print(a + b)  #34


#032
print("Hi" * 3) #HIHIHI


print("-" * 80)


t1 = 'python'
t2 = 'java'
t3 = t1 + ' ' + t2 + ' '
print(t3 * 4)


#035
name1 = "김민수" 
age1 = 10
name2 = "이철희"
age2 = 13
print("이름: %s 나이: %d" % (name1, age1))
print("이름: %s 나이: %d" % (name2, age2))


#036
name1 = "김민수" 
age1 = 10
name2 = "이철희"
age2 = 13
print("이름: {} 나이: {}".format(name1, age1))
print("이름: {} 나이: {}".format(name2, age2))


#037
name1 = "김민수" 
age1 = 10
name2 = "이철희"
age2 = 13
print(f"이름: {name1} 나이: {age1}")
print(f"이름: {name2} 나이: {age2}")


#038
상장주식수 = "5,969,782,550"
f = 상장주식수.replace(",", "")
a = int(f)
print(a, type(a))


#039
분기 = "2020/03(E) (IFRS연결)"
a = 분기[0:7]
a


#040
data = "   삼성전자    "
data1 = data.strip()


#041
ticker = "btc_krw"
f = ticker.upper()
f


#042
ticker = "BTC_KRW"
f = ticker.lower()
f


#043
a = "hello"
a = a.capitalize()
a


#044
file_name = "보고서.xlsx"
f = file_name.endswith('xlsx')
f


#045
file_name = "보고서.xlsx"
f = file_name.endswith(("xlsx", "xls"))
f


#046
file_name = "2020_보고서.xlsx"
f = file_name.startswith("2020")
f


#047
a = "hello world"
f = a.split()
f


#048
ticker = "btc_krw"
f = ticker.split('_')
f


#049
date = "2020-05-01"
f = date.split("-")
f


#050
data = "039490     "
f = data.rstrip()
f



