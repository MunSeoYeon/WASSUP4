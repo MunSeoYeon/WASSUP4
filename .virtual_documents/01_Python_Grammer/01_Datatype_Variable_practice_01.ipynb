


a = 80
b = 75
c = 55
평균 = (a+b+c)/3
평균











pin = '881120-1068234'
yyyymmdd = pin[:6]
num =  1068234
print(yyyymmdd)
print(num)





pin = "881120-1068234"
print(pin[7])





a = "a:b:c:d"
b = a.replace(":", "#")
print(b)





a = [1, 3, 5, 4, 2]
a.sort()
a.reverse()
print(a)





a = ['Life', 'is', 'too', 'short']
result = ' '.join(a)
print(result)





a = (1, 2, 3)
a = a + (4,)
print(a)





a = dict()
a['name'] = 'python'
print(a)
a[('a',)] = 'python'
print(a)
a[250] = 'python'
print(a)
a[[1]] = 'python'.
print(a)





a = {'A':90, 'B':80, 'C':70}
result = a['B'] 
print(a)
print(result)





a = [1, 1, 1, 2, 2, 3, 3, 3, 4, 4, 5]
aSet = set(a)
print(aSet)
b = list(aSet)
print(b)





>>> a = b = [1, 2, 3]
>>> a[1] = 4
>>> print(b)



