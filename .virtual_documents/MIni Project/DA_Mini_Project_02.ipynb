





# import pandas as pd

# df = pd.read_csv('C:\\workspace\\WASSUP4\\data\\mini.csv', sep=',')

# basic_users = df[df['subscription_type'] == 'Basic']

# basic_users.head()

# print(df.columns)

# basic_users[['customer_inquiry_history', 'subscription_duration', 'target']].describe()

# import seaborn as sns
# import matplotlib.pyplot as plt

# # 상관관계 히트맵 - 'upgraded' 대신 'target'을 사용
# plt.figure(figsize=(8, 6))
# sns.heatmap(basic_users[['customer_inquiry_history', 'subscription_duration', 'target']].corr(), annot=True, cmap='coolwarm', vmin=-1, vmax=1)
# plt.title("Correlation Heatmap for Basic Users")
# plt.show()



# 결측치 없음.
import pandas as pd
import seaborn as sns
import matplotlib.pyplot as plt

file_path = 'C:\\workspace\\WASSUP4\\data\\mini.csv'
df = pd.read_csv(file_path, sep=',')

# Basic 사용자의 데이터만 필터링
basic_users = df[df['subscription_type'] == 'Basic']











plt.figure(figsize=(8, 6))
sns.heatmap(
    basic_users[['customer_inquiry_history', 'subscription_duration', 'target']].corr(), 
    annot=True, cmap='coolwarm', vmin=-1, vmax=1
)

plt.xticks(rotation=90)
plt.show()









# 전체 박스플롯을 그리기 위한 설정 (하나의 figure로 설정)
plt.figure(figsize=(15, 5))

# 1. customer_inquiry_history와 target의 박스플롯
plt.subplot(1, 3, 1)
sns.boxplot(x='target', y='customer_inquiry_history', data=basic_users)
plt.title('Customer Inquiry History by Premium Conversion')
plt.xlabel('Premium Conversion (target)')
plt.ylabel('Customer Inquiry History')






# 2. subscription_duration와 target의 박스플롯
plt.figure(figsize=(15, 5))

plt.subplot(1, 3, 2)

sns.boxplot(x='target', y='subscription_duration', data=basic_users)
plt.title('Subscription Duration by Premium Conversion')
plt.xlabel('Premium Conversion (target)')
plt.ylabel('Subscription Duration (months)')





plt.figure(figsize=(15, 5))
# 3. average_time_per_learning_session와 target의 박스플롯
# 필터링된 basic_users 데이터에 average_time_per_learning_session이 있다고 가정합니다.


if 'average_time_per_learning_session' in basic_users.columns:
    plt.subplot(1, 3, 3)
    sns.boxplot(x='target', y='average_time_per_learning_session', data=basic_users)
    plt.title('Average Time per Learning Session \nby Premium Conversion')
    plt.xlabel('Premium Conversion (target)')
    plt.ylabel('Avg Time per Learning Session (minutes)')





plt.figure(figsize=(8, 6))
sns.scatterplot(x='customer_inquiry_history', y='subscription_duration', hue='target', data=basic_users, palette='coolwarm')
plt.title("Customer Inquiry History vs Subscription Duration")
plt.xlabel("Customer Inquiry History")
plt.ylabel("Subscription Duration (Months)")
plt.legend(title="Premium Upgrade")
plt.show()







