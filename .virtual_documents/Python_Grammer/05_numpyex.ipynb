





import numpy as np
a = np.arange(15)
print(a)
a = a.reshape(3, 5, order ='F')  # C 행부터 할당 F 열부터 할당
print(a)
print(type(a))
print(a.shape)
print(a.dtype)
print(a.ndim)
print(a.size)
# print (dir(np))


b = np.array([-1, 2, 5, -3, 0, 7, -9, 7, -4, -7]) # List
print(type(b))

t = (10, 20, 30, 40, 50)         # Tuple
print(type(t))
t = np.array(t)
print(type(t))

s = {10, 20, 30, 40, 50}         # Set
print(type(s))
s = np.array(s)                
print(type(s))

print(b.shape)
print(b.ndim)
print(b.dtype)
print(b)

# print(help(np.arange))

print(np.abs(b))                # 절대값
print(np.sqrt(np.abs(b)))       # 제곱근
print(np.square(b))             # 제곱
print(np.isnan(b))              # NaN 여부
print(np.sum(b))                # 합계
print(np.mean(b))               # 평균
print(np.max(b))                # 최대값
print(np.min(b))                # 최소값
print( np.argmax(b))            # 최대값 인덱스
print( np.argmin(b))            # 최소값 인덱스
print(np.sort(b))               # 정렬 오름차순
print(np.sort(b)[::-1])         # 정렬 내림차순  [start:end:step]
print(np.median(b))             #결측값


c = [[1, 2, 3], [4, 5, 6]]
print(type(c))
c = np.array(c)
print(type(c))
print(c)

print(np.sum(c))
print(np.sum(c, axis=0))
print(np.sum(c, axis=1))
print(np.max(c, axis=0))
print(np.max(c, axis=1))
print(np.std(c))             #표준편차
print(np.var(c))             #분산



#element wise
d = [10, 20, 30, 40, 50]
#print(d+2)               #error
d = np.array(d)
print (d + 2)

e = np.array([1, 2, 3, 4, 5])
print(d+e)
print(d**2)
print(d*np.sin(d))
print(d>35)

print(np.add(d, e))
print(np.subtract(d, e))
print(np.multiply(d, e))
print(np.divide(d, e))



f = np.array([0, 1], [1, 1])
g = np.array([2, 0], [3, 4])
print(f*g)
print(f@g)             #행렬곱
print(np.dot(f, g))    #행렬곱
print(f.dot(g))


h = np.zeros(10)
print(h)
i = np.zeros((5, 5))
print(i)
j = np.ones(10)
print(j)



