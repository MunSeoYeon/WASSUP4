{
 "cells": [
  {
   "cell_type": "code",
   "execution_count": 1,
   "id": "f654960a-7fff-43bc-9e83-aa5955d8f445",
   "metadata": {},
   "outputs": [
    {
     "name": "stdout",
     "output_type": "stream",
     "text": [
      "0\n",
      "1\n",
      "2\n",
      "3\n",
      "4\n",
      "5\n",
      "6\n",
      "7\n",
      "8\n",
      "9\n",
      "10\n",
      "11\n",
      "12\n",
      "13\n",
      "14\n",
      "15\n",
      "16\n",
      "17\n",
      "18\n",
      "19\n",
      "20\n",
      "21\n",
      "22\n",
      "23\n",
      "24\n",
      "25\n",
      "26\n",
      "27\n",
      "28\n",
      "29\n",
      "30\n",
      "31\n",
      "32\n",
      "33\n",
      "34\n",
      "35\n",
      "36\n",
      "37\n",
      "38\n",
      "39\n",
      "40\n",
      "41\n",
      "42\n",
      "43\n",
      "44\n",
      "45\n",
      "46\n",
      "47\n",
      "48\n",
      "49\n",
      "50\n",
      "51\n",
      "52\n",
      "53\n",
      "54\n",
      "55\n",
      "56\n",
      "57\n",
      "58\n",
      "59\n",
      "60\n",
      "61\n",
      "62\n",
      "63\n",
      "64\n",
      "65\n",
      "66\n",
      "67\n",
      "68\n",
      "69\n",
      "70\n",
      "71\n",
      "72\n",
      "73\n",
      "74\n",
      "75\n",
      "76\n",
      "77\n",
      "78\n",
      "79\n",
      "80\n",
      "81\n",
      "82\n",
      "83\n",
      "84\n",
      "85\n",
      "86\n",
      "87\n",
      "88\n",
      "89\n",
      "90\n",
      "91\n",
      "92\n",
      "93\n",
      "94\n",
      "95\n",
      "96\n",
      "97\n",
      "98\n",
      "99\n"
     ]
    }
   ],
   "source": [
    "for i in range(100):\n",
    "    print(i)"
   ]
  },
  {
   "cell_type": "code",
   "execution_count": 2,
   "id": "1b654a45-8178-415b-9fdc-d854af9355a3",
   "metadata": {},
   "outputs": [
    {
     "name": "stdout",
     "output_type": "stream",
     "text": [
      "2002\n",
      "2006\n",
      "2010\n",
      "2014\n",
      "2018\n",
      "2022\n",
      "2026\n",
      "2030\n",
      "2034\n",
      "2038\n",
      "2042\n",
      "2046\n",
      "2050\n"
     ]
    }
   ],
   "source": [
    "for year in range(2002, 2051, 4):\n",
    "    print(year)\n"
   ]
  },
  {
   "cell_type": "code",
   "execution_count": 3,
   "id": "761cdd18-6875-429f-a735-b594107a83f2",
   "metadata": {},
   "outputs": [
    {
     "name": "stdout",
     "output_type": "stream",
     "text": [
      "3\n",
      "6\n",
      "9\n",
      "12\n",
      "15\n",
      "18\n",
      "21\n",
      "24\n",
      "27\n",
      "30\n"
     ]
    }
   ],
   "source": [
    "for i in range(3, 31, 3):\n",
    "    print(i)\n"
   ]
  },
  {
   "cell_type": "code",
   "execution_count": 4,
   "id": "ce816c38-d143-41bc-9357-1ca314ad79f3",
   "metadata": {},
   "outputs": [
    {
     "name": "stdout",
     "output_type": "stream",
     "text": [
      "99\n",
      "98\n",
      "97\n",
      "96\n",
      "95\n",
      "94\n",
      "93\n",
      "92\n",
      "91\n",
      "90\n",
      "89\n",
      "88\n",
      "87\n",
      "86\n",
      "85\n",
      "84\n",
      "83\n",
      "82\n",
      "81\n",
      "80\n",
      "79\n",
      "78\n",
      "77\n",
      "76\n",
      "75\n",
      "74\n",
      "73\n",
      "72\n",
      "71\n",
      "70\n",
      "69\n",
      "68\n",
      "67\n",
      "66\n",
      "65\n",
      "64\n",
      "63\n",
      "62\n",
      "61\n",
      "60\n",
      "59\n",
      "58\n",
      "57\n",
      "56\n",
      "55\n",
      "54\n",
      "53\n",
      "52\n",
      "51\n",
      "50\n",
      "49\n",
      "48\n",
      "47\n",
      "46\n",
      "45\n",
      "44\n",
      "43\n",
      "42\n",
      "41\n",
      "40\n",
      "39\n",
      "38\n",
      "37\n",
      "36\n",
      "35\n",
      "34\n",
      "33\n",
      "32\n",
      "31\n",
      "30\n",
      "29\n",
      "28\n",
      "27\n",
      "26\n",
      "25\n",
      "24\n",
      "23\n",
      "22\n",
      "21\n",
      "20\n",
      "19\n",
      "18\n",
      "17\n",
      "16\n",
      "15\n",
      "14\n",
      "13\n",
      "12\n",
      "11\n",
      "10\n",
      "9\n",
      "8\n",
      "7\n",
      "6\n",
      "5\n",
      "4\n",
      "3\n",
      "2\n",
      "1\n",
      "0\n"
     ]
    }
   ],
   "source": [
    "for i in range(99, -1, -1):\n",
    "    print(i)\n"
   ]
  },
  {
   "cell_type": "code",
   "execution_count": 5,
   "id": "a13570bd-39f8-4d0f-9a43-367a2f4d86ba",
   "metadata": {},
   "outputs": [
    {
     "name": "stdout",
     "output_type": "stream",
     "text": [
      "0.0\n",
      "0.1\n",
      "0.2\n",
      "0.3\n",
      "0.4\n",
      "0.5\n",
      "0.6\n",
      "0.7\n",
      "0.8\n",
      "0.9\n"
     ]
    }
   ],
   "source": [
    "for i in range(10):\n",
    "    print(f\"0.{i}\")"
   ]
  },
  {
   "cell_type": "code",
   "execution_count": 6,
   "id": "189ec792-0807-4ae3-8b1b-14b0c3345be1",
   "metadata": {},
   "outputs": [
    {
     "name": "stdout",
     "output_type": "stream",
     "text": [
      "3 x 1 = 3\n",
      "3 x 2 = 6\n",
      "3 x 3 = 9\n",
      "3 x 4 = 12\n",
      "3 x 5 = 15\n",
      "3 x 6 = 18\n",
      "3 x 7 = 21\n",
      "3 x 8 = 24\n",
      "3 x 9 = 27\n"
     ]
    }
   ],
   "source": [
    "for i in range(1, 10):\n",
    "    print(f\"3 x {i} = {3 * i}\")"
   ]
  },
  {
   "cell_type": "code",
   "execution_count": 7,
   "id": "a8330d08-26df-47b2-bdde-51d6faea75a2",
   "metadata": {},
   "outputs": [
    {
     "name": "stdout",
     "output_type": "stream",
     "text": [
      "3 x 1 = 3\n",
      "3 x 3 = 9\n",
      "3 x 5 = 15\n",
      "3 x 7 = 21\n",
      "3 x 9 = 27\n"
     ]
    }
   ],
   "source": [
    "for i in range(1, 10, 2):\n",
    "    print(f\"3 x {i} = {3 * i}\")\n"
   ]
  },
  {
   "cell_type": "code",
   "execution_count": 8,
   "id": "6190f8b7-01e1-4e6e-9006-4afecf2ec680",
   "metadata": {},
   "outputs": [
    {
     "name": "stdout",
     "output_type": "stream",
     "text": [
      "55\n"
     ]
    }
   ],
   "source": [
    "total = 0\n",
    "for i in range(1, 11):\n",
    "    total += i\n",
    "print(total)\n"
   ]
  },
  {
   "cell_type": "code",
   "execution_count": 9,
   "id": "f2ee7159-e0e5-4ebe-a78b-7044453517a6",
   "metadata": {},
   "outputs": [
    {
     "name": "stdout",
     "output_type": "stream",
     "text": [
      "25\n"
     ]
    }
   ],
   "source": [
    "total = 0\n",
    "for i in range(1, 11, 2):\n",
    "    total += i\n",
    "print(total)\n"
   ]
  },
  {
   "cell_type": "code",
   "execution_count": 10,
   "id": "226bd481-5c95-4b02-aeb8-33e0e2e3874b",
   "metadata": {},
   "outputs": [
    {
     "name": "stdout",
     "output_type": "stream",
     "text": [
      "3628800\n"
     ]
    }
   ],
   "source": [
    "product = 1\n",
    "for i in range(1, 11):\n",
    "    product *= i\n",
    "print(product)\n"
   ]
  },
  {
   "cell_type": "code",
   "execution_count": 11,
   "id": "8f1e56ce-5bc3-4df8-862d-9ef931451f93",
   "metadata": {},
   "outputs": [
    {
     "name": "stdout",
     "output_type": "stream",
     "text": [
      "32100\n",
      "32150\n",
      "32000\n",
      "32500\n"
     ]
    }
   ],
   "source": [
    "price_list = [32100, 32150, 32000, 32500]\n",
    "for price in price_list:\n",
    "    print(price)\n"
   ]
  },
  {
   "cell_type": "code",
   "execution_count": 12,
   "id": "07b8fcfa-68d7-475d-8f6e-80c3b5faac68",
   "metadata": {},
   "outputs": [
    {
     "name": "stdout",
     "output_type": "stream",
     "text": [
      "0 32100\n",
      "1 32150\n",
      "2 32000\n",
      "3 32500\n"
     ]
    }
   ],
   "source": [
    "price_list = [32100, 32150, 32000, 32500]\n",
    "for i in range(len(price_list)):\n",
    "    print(i, price_list[i])\n"
   ]
  },
  {
   "cell_type": "code",
   "execution_count": 13,
   "id": "7c06b971-1dfb-4d13-b235-ba6e28e73307",
   "metadata": {},
   "outputs": [
    {
     "name": "stdout",
     "output_type": "stream",
     "text": [
      "100 32150\n",
      "110 32000\n",
      "120 32500\n"
     ]
    }
   ],
   "source": [
    "price_list = [32100, 32150, 32000, 32500]\n",
    "for i in range(1, len(price_list)):\n",
    "    print(90 + 10 * i, price_list[i])\n"
   ]
  },
  {
   "cell_type": "code",
   "execution_count": 14,
   "id": "50cda00f-ee0b-4524-a545-d18b01757201",
   "metadata": {},
   "outputs": [
    {
     "name": "stdout",
     "output_type": "stream",
     "text": [
      "32500\n",
      "32000\n",
      "32150\n",
      "32100\n"
     ]
    }
   ],
   "source": [
    "price_list = [32100, 32150, 32000, 32500]\n",
    "for i in range(len(price_list) - 1, -1, -1):\n",
    "    print(price_list[i])"
   ]
  },
  {
   "cell_type": "code",
   "execution_count": 15,
   "id": "bfcb3483-aa7a-486f-afce-b56ba4a1a3cb",
   "metadata": {},
   "outputs": [
    {
     "name": "stdout",
     "output_type": "stream",
     "text": [
      "가 나 다\n",
      "나 다 라\n",
      "다 라 마\n"
     ]
    }
   ],
   "source": [
    "my_list = [\"가\", \"나\", \"다\", \"라\", \"마\"]\n",
    "for i in range(len(my_list) - 2):\n",
    "    print(my_list[i], my_list[i + 1], my_list[i + 2])\n"
   ]
  },
  {
   "cell_type": "code",
   "execution_count": 16,
   "id": "c0c0f57d-84d2-4328-b74b-0d19238f61b9",
   "metadata": {},
   "outputs": [
    {
     "name": "stdout",
     "output_type": "stream",
     "text": [
      "라 다\n",
      "다 나\n",
      "나 가\n"
     ]
    }
   ],
   "source": [
    "my_list = [\"가\", \"나\", \"다\", \"라\"]\n",
    "for i in range(len(my_list) - 1, 0, -1):\n",
    "    print(my_list[i], my_list[i - 1])\n"
   ]
  },
  {
   "cell_type": "code",
   "execution_count": 17,
   "id": "8be26d67-6020-42c5-a5f9-4d965f0d988d",
   "metadata": {},
   "outputs": [
    {
     "name": "stdout",
     "output_type": "stream",
     "text": [
      "110\n",
      "210\n",
      "310\n",
      "410\n"
     ]
    }
   ],
   "source": [
    "my_list = [100, 200, 300, 400]\n",
    "for num in my_list:\n",
    "    print(num + 10)\n"
   ]
  },
  {
   "cell_type": "code",
   "execution_count": 18,
   "id": "9b7e9877-ab31-45f6-a403-a503104069cf",
   "metadata": {},
   "outputs": [
    {
     "name": "stdout",
     "output_type": "stream",
     "text": [
      "100\n",
      "100\n",
      "100\n",
      "100\n"
     ]
    }
   ],
   "source": [
    "my_list = [100, 200, 300, 400, 500]\n",
    "for i in range(1, len(my_list)):\n",
    "    print(my_list[i] - my_list[i - 1])\n"
   ]
  },
  {
   "cell_type": "code",
   "execution_count": 19,
   "id": "51318c2d-6e70-416f-b2db-6d4d1b2d19d4",
   "metadata": {},
   "outputs": [
    {
     "name": "stdout",
     "output_type": "stream",
     "text": [
      "100\n",
      "100\n",
      "100\n",
      "100\n"
     ]
    }
   ],
   "source": [
    "my_list = [100, 200, 300, 400, 500]\n",
    "for i in range(len(my_list) - 1, 0, -1):\n",
    "    print(my_list[i] - my_list[i - 1])\n"
   ]
  },
  {
   "cell_type": "code",
   "execution_count": 20,
   "id": "fb249716-2c32-4920-b7ce-a728a6d63f46",
   "metadata": {},
   "outputs": [],
   "source": [
    "apart = [[\"101호\", \"102호\"], [\"201호\", \"202호\"], [\"301호\", \"302호\"]]"
   ]
  },
  {
   "cell_type": "code",
   "execution_count": 21,
   "id": "4399ef6d-022b-48c1-a1af-68c59f79d291",
   "metadata": {},
   "outputs": [],
   "source": [
    "stock = [[\"시가\", 100, 200, 300], [\"종가\", 80, 210, 330]]\n"
   ]
  },
  {
   "cell_type": "code",
   "execution_count": 22,
   "id": "d327597a-1234-4dc2-8208-917ff11f2441",
   "metadata": {},
   "outputs": [
    {
     "name": "stdout",
     "output_type": "stream",
     "text": [
      "['시가', 100, 200, 300, 400]\n"
     ]
    }
   ],
   "source": [
    "stock = [[\"시가\", 100, 200, 300, 400], [\"종가\", 80, 210, 330, 500]]\n",
    "print(stock[0])"
   ]
  },
  {
   "cell_type": "code",
   "execution_count": 23,
   "id": "d8502ef3-2bf3-4e47-964d-998e583820de",
   "metadata": {},
   "outputs": [
    {
     "name": "stdout",
     "output_type": "stream",
     "text": [
      "[80, 210, 330, 500]\n"
     ]
    }
   ],
   "source": [
    "stock = [[\"시가\", 100, 200, 300, 400], [\"종가\", 80, 210, 330, 500]]\n",
    "print(stock[1][1:])\n"
   ]
  },
  {
   "cell_type": "code",
   "execution_count": 24,
   "id": "a0f3427e-2825-4a55-9ff9-11ad65f6b32d",
   "metadata": {},
   "outputs": [
    {
     "name": "stdout",
     "output_type": "stream",
     "text": [
      "오늘의 메뉴: 면라\n",
      "오늘의 메뉴: 김밥\n",
      "오늘의 메뉴: 음료\n",
      "오늘의 메뉴: 디저트\n"
     ]
    }
   ],
   "source": [
    "menu = [\"면라\", \"김밥\", \"음료\", \"디저트\"]\n",
    "for item in menu:\n",
    "    print(\"오늘의 메뉴:\", item)\n"
   ]
  },
  {
   "cell_type": "code",
   "execution_count": 25,
   "id": "97d188ab-5cdd-4393-b4f6-28f607a5289c",
   "metadata": {},
   "outputs": [
    {
     "name": "stdout",
     "output_type": "stream",
     "text": [
      "1. 면라\n",
      "2. 김밥\n",
      "3. 음료\n",
      "4. 디저트\n"
     ]
    }
   ],
   "source": [
    "menu = [\"면라\", \"김밥\", \"음료\", \"디저트\"]\n",
    "for index, item in enumerate(menu):\n",
    "    print(f\"{index + 1}. {item}\")\n"
   ]
  },
  {
   "cell_type": "code",
   "execution_count": 26,
   "id": "45252626-b54d-4816-8d04-1d882941acbd",
   "metadata": {},
   "outputs": [
    {
     "name": "stdout",
     "output_type": "stream",
     "text": [
      "101. 면라\n",
      "102. 김밥\n",
      "103. 음료\n",
      "104. 디저트\n"
     ]
    }
   ],
   "source": [
    "menu = [\"면라\", \"김밥\", \"음료\", \"디저트\"]\n",
    "for index, item in enumerate(menu, start=101):\n",
    "    print(f\"{index}. {item}\")\n"
   ]
  },
  {
   "cell_type": "code",
   "execution_count": 27,
   "id": "51ff9b0d-3289-4b72-a07c-d607fea7c303",
   "metadata": {},
   "outputs": [
    {
     "name": "stdout",
     "output_type": "stream",
     "text": [
      "디저트\n",
      "음료\n",
      "김밥\n",
      "면라\n"
     ]
    }
   ],
   "source": [
    "menu = [\"면라\", \"김밥\", \"음료\", \"디저트\"]\n",
    "for i in range(len(menu) - 1, -1, -1):\n",
    "    print(menu[i])\n"
   ]
  },
  {
   "cell_type": "code",
   "execution_count": 28,
   "id": "c4986bd2-2ba6-48a3-8387-a6fc31e824fe",
   "metadata": {},
   "outputs": [
    {
     "name": "stdout",
     "output_type": "stream",
     "text": [
      "김밥\n",
      "디저트\n"
     ]
    }
   ],
   "source": [
    "menu = [\"면라\", \"김밥\", \"음료\", \"디저트\"]\n",
    "for i in range(1, len(menu), 2):\n",
    "    print(menu[i])\n"
   ]
  },
  {
   "cell_type": "code",
   "execution_count": 29,
   "id": "679de19b-401d-4b3e-85d3-6149fe3bdb5e",
   "metadata": {},
   "outputs": [
    {
     "name": "stdout",
     "output_type": "stream",
     "text": [
      "{'메로나': 1000, '폴라포': 1200, '빵빠레': 1800}\n"
     ]
    }
   ],
   "source": [
    "data = {'메로나': 1000, '폴라포': 1200, '빵빠레': 1800}\n",
    "print(data)\n"
   ]
  },
  {
   "cell_type": "code",
   "execution_count": 30,
   "id": "6d598cc4-118b-44ab-adb1-c024903ca419",
   "metadata": {},
   "outputs": [
    {
     "name": "stdout",
     "output_type": "stream",
     "text": [
      "1000\n"
     ]
    }
   ],
   "source": [
    "data = {'메로나': 1000, '폴라포': 1200, '빵빠레': 1800}\n",
    "print(data['메로나'])\n"
   ]
  },
  {
   "cell_type": "code",
   "execution_count": 31,
   "id": "7c6ade1a-916e-403c-a41e-6335d58cf97a",
   "metadata": {},
   "outputs": [
    {
     "name": "stdout",
     "output_type": "stream",
     "text": [
      "{'메로나': 1300, '폴라포': 1200, '빵빠레': 1800}\n"
     ]
    }
   ],
   "source": [
    "data = {'메로나': 1000, '폴라포': 1200, '빵빠레': 1800}\n",
    "data['메로나'] = 1300\n",
    "print(data)\n"
   ]
  },
  {
   "cell_type": "code",
   "execution_count": 32,
   "id": "138539b0-41d7-43c8-87fb-e603f9c5541b",
   "metadata": {},
   "outputs": [
    {
     "ename": "TypeError",
     "evalue": "can't multiply sequence by non-int of type 'float'",
     "output_type": "error",
     "traceback": [
      "\u001b[1;31m---------------------------------------------------------------------------\u001b[0m",
      "\u001b[1;31mTypeError\u001b[0m                                 Traceback (most recent call last)",
      "Cell \u001b[1;32mIn[32], line 3\u001b[0m\n\u001b[0;32m      1\u001b[0m \u001b[38;5;28;01mfor\u001b[39;00m line \u001b[38;5;129;01min\u001b[39;00m data:\n\u001b[0;32m      2\u001b[0m     \u001b[38;5;28;01mfor\u001b[39;00m column \u001b[38;5;129;01min\u001b[39;00m line:\n\u001b[1;32m----> 3\u001b[0m         \u001b[38;5;28mprint\u001b[39m(column \u001b[38;5;241m*\u001b[39m \u001b[38;5;241m1.00014\u001b[39m)\n",
      "\u001b[1;31mTypeError\u001b[0m: can't multiply sequence by non-int of type 'float'"
     ]
    }
   ],
   "source": [
    "for line in data:\n",
    "    for column in line:\n",
    "        print(column * 1.00014)\n",
    "\n"
   ]
  },
  {
   "cell_type": "code",
   "execution_count": 33,
   "id": "05032d86-6027-4022-b729-2dc4cabbc9ac",
   "metadata": {},
   "outputs": [
    {
     "ename": "TypeError",
     "evalue": "can't multiply sequence by non-int of type 'float'",
     "output_type": "error",
     "traceback": [
      "\u001b[1;31m---------------------------------------------------------------------------\u001b[0m",
      "\u001b[1;31mTypeError\u001b[0m                                 Traceback (most recent call last)",
      "Cell \u001b[1;32mIn[33], line 3\u001b[0m\n\u001b[0;32m      1\u001b[0m \u001b[38;5;28;01mfor\u001b[39;00m line \u001b[38;5;129;01min\u001b[39;00m data:\n\u001b[0;32m      2\u001b[0m     \u001b[38;5;28;01mfor\u001b[39;00m column \u001b[38;5;129;01min\u001b[39;00m line:\n\u001b[1;32m----> 3\u001b[0m         \u001b[38;5;28mprint\u001b[39m(column \u001b[38;5;241m*\u001b[39m \u001b[38;5;241m1.00014\u001b[39m)\n\u001b[0;32m      4\u001b[0m     \u001b[38;5;28mprint\u001b[39m(\u001b[38;5;124m\"\u001b[39m\u001b[38;5;124m----\u001b[39m\u001b[38;5;124m\"\u001b[39m)\n",
      "\u001b[1;31mTypeError\u001b[0m: can't multiply sequence by non-int of type 'float'"
     ]
    }
   ],
   "source": [
    "for line in data:\n",
    "    for column in line:\n",
    "        print(column * 1.00014)\n",
    "    print(\"----\")\n"
   ]
  },
  {
   "cell_type": "code",
   "execution_count": null,
   "id": "7ca5b425-4978-479a-8f96-b7bf7283835c",
   "metadata": {},
   "outputs": [],
   "source": []
  }
 ],
 "metadata": {
  "kernelspec": {
   "display_name": "Python 3 (ipykernel)",
   "language": "python",
   "name": "python3"
  },
  "language_info": {
   "codemirror_mode": {
    "name": "ipython",
    "version": 3
   },
   "file_extension": ".py",
   "mimetype": "text/x-python",
   "name": "python",
   "nbconvert_exporter": "python",
   "pygments_lexer": "ipython3",
   "version": "3.12.4"
  }
 },
 "nbformat": 4,
 "nbformat_minor": 5
}
