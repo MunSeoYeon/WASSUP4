# marks2.py
marks = [90, 25, 67, 45, 80]

number = 0 
for mark in marks: 
    number = number +1 
    if mark < 60:
        continue 
    print("%d번 학생 축하합니다. 합격입니다. " % number)





range?


range(10)


type(range(10))


for i in range(10):
    print(i)


for i in range(1, 10):
    print(i)





total = 0

for number in range(1, 11):
    total = number + 1
    print(total)


for x in range(2, 10):
    for y in range(1, 10):
        print(f'{x} x {y} = {x * y}')
    print('----------')





# 기본 전화번호부 프로그램

# 전화번호부를 저장할 딕셔너리
phone_book = {}

# 메인 프로그램 루프
while True:
    print("\n전화번호부 프로그램")
    print("1. 연락처 추가")
    print("2. 연락처 전체 보기")
    print("3. 연락처 검색")
    print("4. 연락처 수정")
    print("5. 연락처 삭제")
    print("6. 프로그램 종료")
    
    choice = input("원하는 기능의 번호를 입력하세요: ")
    
    if choice == '1':
        # 연락처 추가
        name = input("이름을 입력하세요: ")
        number = input("전화번호를 입력하세요: ")
        phone_book[name] = number
        print(f"{name}의 연락처가 추가되었습니다.")
    
    elif choice == '2':
        # 연락처 조회
        if phone_book:
            for name, number in phone_book.items():
                print(f"{name}: {number}")
        else:
            print("전화번호부가 비어있습니다.")
    
    elif choice == '3':
        # 연락처 검색
        name = input("검색할 이름을 입력하세요: ")
        if name in phone_book:
            print(f"{name}의 전화번호는 {phone_book[name]}입니다.")
        else:
            print(f"{name}을(를) 찾을 수 없습니다.")
    
    elif choice == '4':
        # 연락처 수정
        name = input("수정할 연락처의 이름을 입력하세요: ")
        if name in phone_book:
            new_number = input("새 전화번호를 입력하세요: ")
            phone_book[name] = new_number
            print(f"{name}의 전화번호가 수정되었습니다.")
        else:
            print(f"{name}을(를) 찾을 수 없습니다.")
    
    elif choice == '5':
        # 연락처 삭제
        name = input("삭제할 연락처의 이름을 입력하세요: ")
        if name in phone_book:
            del phone_book[name]
            print(f"{name}의 연락처가 삭제되었습니다.")
        else:
            print(f"{name}을(를) 찾을 수 없습니다.")
    
    elif choice == '6':
        # 프로그램 종료
        print("프로그램을 종료합니다.")
        break
    
    else:
        print("잘못된 입력입니다. 다시 시도해주세요.")


contact = {}

while True:
    print('---------전화번호부 프로그램---------')
    print('1.추가   2.조회   3.검색   4.수정   5.삭제   9.종료')
    menu = int(input('메뉴를 선택해주세요.(숫자 only) : '))
    
    if menu == 1: # 연락처 추가
        print('연락처를 추가합니다.')
        new_name = input('이름: ')
        new_tel = input('전화번호: ')
        print(new_name, new_tel)
        # contact[new_name] = new_tel
        contact.setdefault(new_name, new_tel)
        
    elif menu == 2: # 연락처 조회
        print('연락처를 조회합니다.')
        # print(contact)
        for name, tel in contact.items():
            print(name, ':', tel)
        
    elif menu == 3: # 연락처 검색
        print('연락처를 검색합니다.')
        search_name = input('검색 이름: ')
        # print(contact[search_name])
        print(contact.get(search_name, '없는 이름입니다.'))
        
    elif menu == 4: # 연락처 수정
        print('연락처를 수정합니다.')
        mod_name = input('수정 이름 : ')

        if mod_name in contact:
            mod_tel = input('새 전화번호: ')
            contact[mod_name] = mod_tel
        else:
            print('등록되지 않은 이름입니다.')       

    elif menu == 5: # 연락처 삭제
        print('연락처를 삭제합니다.')
        del_name = input('삭제 이름 : ')

        if del_name in contact:
            del contact[del_name]
        else:
            print('등록되지 않은 이름입니다.')     
        
    elif menu == 9: # 프로그램 종료
        print('프로그램을 종료합니다.')
        break

    else :
        print('잘못된 입력입니다.')



