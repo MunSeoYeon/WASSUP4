#078
interest = ['삼성전자', 'LG전자', 'SK Hynix']
data = tuple(interest)
data


#079
temp = ('apple', 'banana', 'cake')
a, b, c = temp
print(a, b, c)


#080
data = tuple(range(2, 100, 2))
print( data )


#081
scores = [8.8, 8.9, 8.7, 9.2, 9.3, 9.7, 9.9, 9.5, 7.8, 9.4]
*valid_score, _, _= scores
print(valid_score)


#082
scores = [8.8, 8.9, 8.7, 9.2, 9.3, 9.7, 9.9, 9.5, 7.8, 9.4]
a, b, *valid_score = scores
print(valid_score)


#083
scores = [8.8, 8.9, 8.7, 9.2, 9.3, 9.7, 9.9, 9.5, 7.8, 9.4]
a, *valid_score, b = scores
print(valid_score)



#084
temp = { }
temp


#085
ice = {"메로나": 1000, "폴라포": 1200, "빵빠레": 1800}
print(ice) 


#086
ice = {"메로나": 1000, "폴라포": 1200, "빵빠레": 1800}
ice["죠스바"] = 1200
ice["월드콘"] = 1500
print(ice)


#087
print("메로나 가격: ", ice["메로나"])



#088
ice["메로나"] = 1300
ice


#089
del ice["메로나"]
print(ice)


#090
>> icecream = {'폴라포': 1200, '빵빠레': 1800, '월드콘': 1500, '메로나': 1000}
>> icecream['누가바']
Traceback (most recent call last):
  File "<pyshell#69>", line 1, in <module>
    icecream['누가바']
KeyError: '누가바'


#091
inventory = {"메로나": [300, 20], 
             "비비빅": [400, 3], 
             "죠스바": [250, 100]}
print(inventory)


#092
print(inventory["메로나"][0], "원")


#093
print(inventory["메로나"][1], "개")


#094
inventory["월드콘"] = [500, 7]
inventory


#095
icecream = {'탱크보이': 1200, '폴라포': 1200, '빵빠레': 1800, '월드콘': 1500, '메로나': 1000}
ice = list(icecream.keys())
print(ice)


#096
price  = list(icecream.values())
price 


#097
print(sum(icecream.values()))


#098
icecream = {'탱크보이': 1200, '폴라포': 1200, '빵빠레': 1800, '월드콘': 1500, '메로나': 1000}
new_product = {'팥빙수':2700, '아맛나':1000}
icecream.update(new_product)
print(icecream)


#099
keys = ("apple", "pear", "peach")
vals = (300, 250, 400)
result = dict(zip(keys, vals))
print(result)


#100
date = ['09/05', '09/06', '09/07', '09/08', '09/09']
close_price = [10500, 10300, 10100, 10800, 11000]
close_table = dict(zip(date, close_price))
print(close_table)



