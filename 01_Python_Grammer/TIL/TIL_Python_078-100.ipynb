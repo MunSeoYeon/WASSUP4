{
 "cells": [
  {
   "cell_type": "code",
   "execution_count": 1,
   "id": "e0b91dd3-fc89-42da-a206-5c96402691ad",
   "metadata": {},
   "outputs": [
    {
     "data": {
      "text/plain": [
       "('삼성전자', 'LG전자', 'SK Hynix')"
      ]
     },
     "execution_count": 1,
     "metadata": {},
     "output_type": "execute_result"
    }
   ],
   "source": [
    "#078\n",
    "interest = ['삼성전자', 'LG전자', 'SK Hynix']\n",
    "data = tuple(interest)\n",
    "data"
   ]
  },
  {
   "cell_type": "code",
   "execution_count": 2,
   "id": "4515e70d-3bd0-4278-81e1-98f1fddbe16a",
   "metadata": {},
   "outputs": [
    {
     "name": "stdout",
     "output_type": "stream",
     "text": [
      "apple banana cake\n"
     ]
    }
   ],
   "source": [
    "#079\n",
    "temp = ('apple', 'banana', 'cake')\n",
    "a, b, c = temp\n",
    "print(a, b, c)"
   ]
  },
  {
   "cell_type": "code",
   "execution_count": 4,
   "id": "4b955dd3-a69b-4474-945e-ead1505a5c1b",
   "metadata": {},
   "outputs": [
    {
     "name": "stdout",
     "output_type": "stream",
     "text": [
      "(2, 4, 6, 8, 10, 12, 14, 16, 18, 20, 22, 24, 26, 28, 30, 32, 34, 36, 38, 40, 42, 44, 46, 48, 50, 52, 54, 56, 58, 60, 62, 64, 66, 68, 70, 72, 74, 76, 78, 80, 82, 84, 86, 88, 90, 92, 94, 96, 98)\n"
     ]
    }
   ],
   "source": [
    "#080\n",
    "data = tuple(range(2, 100, 2))\n",
    "print( data )"
   ]
  },
  {
   "cell_type": "code",
   "execution_count": 7,
   "id": "e388d9cd-affa-41c1-b0c0-bb3a76bbc191",
   "metadata": {},
   "outputs": [
    {
     "name": "stdout",
     "output_type": "stream",
     "text": [
      "[8.8, 8.9, 8.7, 9.2, 9.3, 9.7, 9.9, 9.5]\n"
     ]
    }
   ],
   "source": [
    "#081\n",
    "scores = [8.8, 8.9, 8.7, 9.2, 9.3, 9.7, 9.9, 9.5, 7.8, 9.4]\n",
    "*valid_score, _, _= scores\n",
    "print(valid_score)"
   ]
  },
  {
   "cell_type": "code",
   "execution_count": 8,
   "id": "cb36d07c-fdd3-43b5-a509-b1f84a0f9449",
   "metadata": {},
   "outputs": [
    {
     "name": "stdout",
     "output_type": "stream",
     "text": [
      "[8.7, 9.2, 9.3, 9.7, 9.9, 9.5, 7.8, 9.4]\n"
     ]
    }
   ],
   "source": [
    "#082\n",
    "scores = [8.8, 8.9, 8.7, 9.2, 9.3, 9.7, 9.9, 9.5, 7.8, 9.4]\n",
    "a, b, *valid_score = scores\n",
    "print(valid_score)"
   ]
  },
  {
   "cell_type": "code",
   "execution_count": 9,
   "id": "7d127014-489d-4449-b63a-18d3528272c6",
   "metadata": {},
   "outputs": [
    {
     "name": "stdout",
     "output_type": "stream",
     "text": [
      "[8.9, 8.7, 9.2, 9.3, 9.7, 9.9, 9.5, 7.8]\n"
     ]
    }
   ],
   "source": [
    "#083\n",
    "scores = [8.8, 8.9, 8.7, 9.2, 9.3, 9.7, 9.9, 9.5, 7.8, 9.4]\n",
    "a, *valid_score, b = scores\n",
    "print(valid_score)\n"
   ]
  },
  {
   "cell_type": "code",
   "execution_count": 11,
   "id": "db218073-c903-466b-a733-c8243d4e5282",
   "metadata": {},
   "outputs": [
    {
     "data": {
      "text/plain": [
       "{}"
      ]
     },
     "execution_count": 11,
     "metadata": {},
     "output_type": "execute_result"
    }
   ],
   "source": [
    "#084\n",
    "temp = { }\n",
    "temp"
   ]
  },
  {
   "cell_type": "code",
   "execution_count": 12,
   "id": "e0b43301-f4c0-4bda-98c7-e46519915ada",
   "metadata": {},
   "outputs": [
    {
     "name": "stdout",
     "output_type": "stream",
     "text": [
      "{'메로나': 1000, '폴라포': 1200, '빵빠레': 1800}\n"
     ]
    }
   ],
   "source": [
    "#085\n",
    "ice = {\"메로나\": 1000, \"폴라포\": 1200, \"빵빠레\": 1800}\n",
    "print(ice) "
   ]
  },
  {
   "cell_type": "code",
   "execution_count": 13,
   "id": "1bfc34c3-c50c-40ec-af2a-0d782df88f1a",
   "metadata": {},
   "outputs": [
    {
     "name": "stdout",
     "output_type": "stream",
     "text": [
      "{'메로나': 1000, '폴라포': 1200, '빵빠레': 1800, '죠스바': 1200, '월드콘': 1500}\n"
     ]
    }
   ],
   "source": [
    "#086\n",
    "ice = {\"메로나\": 1000, \"폴라포\": 1200, \"빵빠레\": 1800}\n",
    "ice[\"죠스바\"] = 1200\n",
    "ice[\"월드콘\"] = 1500\n",
    "print(ice)"
   ]
  },
  {
   "cell_type": "code",
   "execution_count": 14,
   "id": "8ef24457-95a4-45a1-99bd-ac9de988a625",
   "metadata": {},
   "outputs": [
    {
     "name": "stdout",
     "output_type": "stream",
     "text": [
      "메로나 가격:  1000\n"
     ]
    }
   ],
   "source": [
    "#087\n",
    "print(\"메로나 가격: \", ice[\"메로나\"])\n"
   ]
  },
  {
   "cell_type": "code",
   "execution_count": 16,
   "id": "6d5fc5a2-edfc-47bd-902f-46c13a155863",
   "metadata": {},
   "outputs": [
    {
     "data": {
      "text/plain": [
       "{'메로나': 1300, '폴라포': 1200, '빵빠레': 1800, '죠스바': 1200, '월드콘': 1500}"
      ]
     },
     "execution_count": 16,
     "metadata": {},
     "output_type": "execute_result"
    }
   ],
   "source": [
    "#088\n",
    "ice[\"메로나\"] = 1300\n",
    "ice"
   ]
  },
  {
   "cell_type": "code",
   "execution_count": 18,
   "id": "a85a2013-75a4-4409-a703-c84449178709",
   "metadata": {},
   "outputs": [
    {
     "name": "stdout",
     "output_type": "stream",
     "text": [
      "{'폴라포': 1200, '빵빠레': 1800, '죠스바': 1200, '월드콘': 1500}\n"
     ]
    }
   ],
   "source": [
    "#089\n",
    "del ice[\"메로나\"]\n",
    "print(ice)"
   ]
  },
  {
   "cell_type": "code",
   "execution_count": 19,
   "id": "f0be64bd-db40-4c2f-8d8d-b8694aeca9ec",
   "metadata": {},
   "outputs": [
    {
     "ename": "SyntaxError",
     "evalue": "invalid syntax (3479369802.py, line 2)",
     "output_type": "error",
     "traceback": [
      "\u001b[1;36m  Cell \u001b[1;32mIn[19], line 2\u001b[1;36m\u001b[0m\n\u001b[1;33m    >> icecream = {'폴라포': 1200, '빵빠레': 1800, '월드콘': 1500, '메로나': 1000}\u001b[0m\n\u001b[1;37m    ^\u001b[0m\n\u001b[1;31mSyntaxError\u001b[0m\u001b[1;31m:\u001b[0m invalid syntax\n"
     ]
    }
   ],
   "source": [
    "#090\n",
    ">> icecream = {'폴라포': 1200, '빵빠레': 1800, '월드콘': 1500, '메로나': 1000}\n",
    ">> icecream['누가바']\n",
    "Traceback (most recent call last):\n",
    "  File \"<pyshell#69>\", line 1, in <module>\n",
    "    icecream['누가바']\n",
    "KeyError: '누가바'"
   ]
  },
  {
   "cell_type": "code",
   "execution_count": 20,
   "id": "e2b12e3d-caf5-4e28-bc91-138be679f0bd",
   "metadata": {},
   "outputs": [
    {
     "name": "stdout",
     "output_type": "stream",
     "text": [
      "{'메로나': [300, 20], '비비빅': [400, 3], '죠스바': [250, 100]}\n"
     ]
    }
   ],
   "source": [
    "#091\n",
    "inventory = {\"메로나\": [300, 20], \n",
    "             \"비비빅\": [400, 3], \n",
    "             \"죠스바\": [250, 100]}\n",
    "print(inventory)"
   ]
  },
  {
   "cell_type": "code",
   "execution_count": 21,
   "id": "434ad944-68a0-4866-b7ec-df7df246da45",
   "metadata": {},
   "outputs": [
    {
     "name": "stdout",
     "output_type": "stream",
     "text": [
      "300 원\n"
     ]
    }
   ],
   "source": [
    "#092\n",
    "print(inventory[\"메로나\"][0], \"원\")"
   ]
  },
  {
   "cell_type": "code",
   "execution_count": 22,
   "id": "766382da-f8d4-45af-87d9-cb819a76bafa",
   "metadata": {},
   "outputs": [
    {
     "name": "stdout",
     "output_type": "stream",
     "text": [
      "20 개\n"
     ]
    }
   ],
   "source": [
    "#093\n",
    "print(inventory[\"메로나\"][1], \"개\")"
   ]
  },
  {
   "cell_type": "code",
   "execution_count": 24,
   "id": "5012e167-9aaa-4a55-aedd-dfb21706c598",
   "metadata": {},
   "outputs": [
    {
     "data": {
      "text/plain": [
       "{'메로나': [300, 20], '비비빅': [400, 3], '죠스바': [250, 100], '월드콘': [500, 7]}"
      ]
     },
     "execution_count": 24,
     "metadata": {},
     "output_type": "execute_result"
    }
   ],
   "source": [
    "#094\n",
    "inventory[\"월드콘\"] = [500, 7]\n",
    "inventory"
   ]
  },
  {
   "cell_type": "code",
   "execution_count": 25,
   "id": "cb2962dc-9ca9-4336-b9c6-2ce4d0fe8743",
   "metadata": {},
   "outputs": [
    {
     "name": "stdout",
     "output_type": "stream",
     "text": [
      "['탱크보이', '폴라포', '빵빠레', '월드콘', '메로나']\n"
     ]
    }
   ],
   "source": [
    "#095\n",
    "icecream = {'탱크보이': 1200, '폴라포': 1200, '빵빠레': 1800, '월드콘': 1500, '메로나': 1000}\n",
    "ice = list(icecream.keys())\n",
    "print(ice)"
   ]
  },
  {
   "cell_type": "code",
   "execution_count": 29,
   "id": "3be4615e-8f0f-47d4-a871-46a0a5faa47a",
   "metadata": {},
   "outputs": [
    {
     "data": {
      "text/plain": [
       "[1200, 1200, 1800, 1500, 1000]"
      ]
     },
     "execution_count": 29,
     "metadata": {},
     "output_type": "execute_result"
    }
   ],
   "source": [
    "#096\n",
    "price  = list(icecream.values())\n",
    "price "
   ]
  },
  {
   "cell_type": "code",
   "execution_count": 30,
   "id": "da4f4174-3aeb-4814-b3cb-d641d6098f7f",
   "metadata": {},
   "outputs": [
    {
     "name": "stdout",
     "output_type": "stream",
     "text": [
      "6700\n"
     ]
    }
   ],
   "source": [
    "#097\n",
    "print(sum(icecream.values()))"
   ]
  },
  {
   "cell_type": "code",
   "execution_count": 31,
   "id": "cb1a8570-12fe-4c99-81c4-f82186ab9841",
   "metadata": {},
   "outputs": [
    {
     "name": "stdout",
     "output_type": "stream",
     "text": [
      "{'탱크보이': 1200, '폴라포': 1200, '빵빠레': 1800, '월드콘': 1500, '메로나': 1000, '팥빙수': 2700, '아맛나': 1000}\n"
     ]
    }
   ],
   "source": [
    "#098\n",
    "icecream = {'탱크보이': 1200, '폴라포': 1200, '빵빠레': 1800, '월드콘': 1500, '메로나': 1000}\n",
    "new_product = {'팥빙수':2700, '아맛나':1000}\n",
    "icecream.update(new_product)\n",
    "print(icecream)"
   ]
  },
  {
   "cell_type": "code",
   "execution_count": 32,
   "id": "6f9d743c-8e29-4b68-a0aa-20f5fe8ed30d",
   "metadata": {},
   "outputs": [
    {
     "name": "stdout",
     "output_type": "stream",
     "text": [
      "{'apple': 300, 'pear': 250, 'peach': 400}\n"
     ]
    }
   ],
   "source": [
    "#099\n",
    "keys = (\"apple\", \"pear\", \"peach\")\n",
    "vals = (300, 250, 400)\n",
    "result = dict(zip(keys, vals))\n",
    "print(result)"
   ]
  },
  {
   "cell_type": "code",
   "execution_count": 33,
   "id": "b13f099e-30b2-467b-b853-ad9afad2e86d",
   "metadata": {},
   "outputs": [
    {
     "name": "stdout",
     "output_type": "stream",
     "text": [
      "{'09/05': 10500, '09/06': 10300, '09/07': 10100, '09/08': 10800, '09/09': 11000}\n"
     ]
    }
   ],
   "source": [
    "#100\n",
    "date = ['09/05', '09/06', '09/07', '09/08', '09/09']\n",
    "close_price = [10500, 10300, 10100, 10800, 11000]\n",
    "close_table = dict(zip(date, close_price))\n",
    "print(close_table)"
   ]
  },
  {
   "cell_type": "code",
   "execution_count": null,
   "id": "acc71393-f958-4c6d-bf4b-918a3c11ef20",
   "metadata": {},
   "outputs": [],
   "source": []
  }
 ],
 "metadata": {
  "kernelspec": {
   "display_name": "Python 3 (ipykernel)",
   "language": "python",
   "name": "python3"
  },
  "language_info": {
   "codemirror_mode": {
    "name": "ipython",
    "version": 3
   },
   "file_extension": ".py",
   "mimetype": "text/x-python",
   "name": "python",
   "nbconvert_exporter": "python",
   "pygments_lexer": "ipython3",
   "version": "3.12.4"
  }
 },
 "nbformat": 4,
 "nbformat_minor": 5
}
