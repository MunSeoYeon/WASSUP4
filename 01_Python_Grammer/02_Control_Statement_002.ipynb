{
 "cells": [
  {
   "cell_type": "code",
   "execution_count": 1,
   "id": "a8c450d8-8564-4a73-b24a-eba36868c194",
   "metadata": {},
   "outputs": [
    {
     "name": "stdout",
     "output_type": "stream",
     "text": [
      "1번 학생 축하합니다. 합격입니다. \n",
      "3번 학생 축하합니다. 합격입니다. \n",
      "5번 학생 축하합니다. 합격입니다. \n"
     ]
    }
   ],
   "source": [
    "# marks2.py\n",
    "marks = [90, 25, 67, 45, 80]\n",
    "\n",
    "number = 0 \n",
    "for mark in marks: \n",
    "    number = number +1 \n",
    "    if mark < 60:\n",
    "        continue \n",
    "    print(\"%d번 학생 축하합니다. 합격입니다. \" % number)"
   ]
  },
  {
   "cell_type": "markdown",
   "id": "9111e99d-4341-48e6-9be2-6886307b0316",
   "metadata": {},
   "source": [
    "# for문과 함께 자주 사용하는 range 함수"
   ]
  },
  {
   "cell_type": "code",
   "execution_count": 2,
   "id": "96e52bf9-34c0-40af-9791-9255288ee72b",
   "metadata": {},
   "outputs": [
    {
     "data": {
      "text/plain": [
       "\u001b[1;31mInit signature:\u001b[0m \u001b[0mrange\u001b[0m\u001b[1;33m(\u001b[0m\u001b[0mself\u001b[0m\u001b[1;33m,\u001b[0m \u001b[1;33m/\u001b[0m\u001b[1;33m,\u001b[0m \u001b[1;33m*\u001b[0m\u001b[0margs\u001b[0m\u001b[1;33m,\u001b[0m \u001b[1;33m**\u001b[0m\u001b[0mkwargs\u001b[0m\u001b[1;33m)\u001b[0m\u001b[1;33m\u001b[0m\u001b[1;33m\u001b[0m\u001b[0m\n",
       "\u001b[1;31mDocstring:\u001b[0m     \n",
       "range(stop) -> range object\n",
       "range(start, stop[, step]) -> range object\n",
       "\n",
       "Return an object that produces a sequence of integers from start (inclusive)\n",
       "to stop (exclusive) by step.  range(i, j) produces i, i+1, i+2, ..., j-1.\n",
       "start defaults to 0, and stop is omitted!  range(4) produces 0, 1, 2, 3.\n",
       "These are exactly the valid indices for a list of 4 elements.\n",
       "When step is given, it specifies the increment (or decrement).\n",
       "\u001b[1;31mType:\u001b[0m           type\n",
       "\u001b[1;31mSubclasses:\u001b[0m     "
      ]
     },
     "metadata": {},
     "output_type": "display_data"
    }
   ],
   "source": [
    "range?"
   ]
  },
  {
   "cell_type": "code",
   "execution_count": 3,
   "id": "57309560-7fe4-4f7a-8817-4c89b3818208",
   "metadata": {},
   "outputs": [
    {
     "data": {
      "text/plain": [
       "range(0, 10)"
      ]
     },
     "execution_count": 3,
     "metadata": {},
     "output_type": "execute_result"
    }
   ],
   "source": [
    "range(10)"
   ]
  },
  {
   "cell_type": "code",
   "execution_count": 4,
   "id": "397b31b2-78a0-4e14-93db-f1980a0f6d81",
   "metadata": {},
   "outputs": [
    {
     "data": {
      "text/plain": [
       "range"
      ]
     },
     "execution_count": 4,
     "metadata": {},
     "output_type": "execute_result"
    }
   ],
   "source": [
    "type(range(10))"
   ]
  },
  {
   "cell_type": "code",
   "execution_count": 7,
   "id": "786a8510-adc3-44ef-ba0f-1b61e78da8ee",
   "metadata": {},
   "outputs": [
    {
     "name": "stdout",
     "output_type": "stream",
     "text": [
      "0\n",
      "1\n",
      "2\n",
      "3\n",
      "4\n",
      "5\n",
      "6\n",
      "7\n",
      "8\n",
      "9\n"
     ]
    }
   ],
   "source": [
    "for i in range(10):\n",
    "    print(i)"
   ]
  },
  {
   "cell_type": "code",
   "execution_count": 8,
   "id": "1c13a7a3-c158-4d7a-8c15-fa79500a555d",
   "metadata": {},
   "outputs": [
    {
     "name": "stdout",
     "output_type": "stream",
     "text": [
      "1\n",
      "2\n",
      "3\n",
      "4\n",
      "5\n",
      "6\n",
      "7\n",
      "8\n",
      "9\n"
     ]
    }
   ],
   "source": [
    "for i in range(1, 10):\n",
    "    print(i)"
   ]
  },
  {
   "cell_type": "markdown",
   "id": "1f64cd2f-18e1-4e78-824b-cec4f653cee9",
   "metadata": {},
   "source": [
    "# QUIZ\n",
    "    for문과 range 함수를 이용하여\n",
    "    1부터 10까지 더해서 출력해보세요\n"
   ]
  },
  {
   "cell_type": "code",
   "execution_count": 9,
   "id": "7ec3360f-57a7-4dac-83d4-c4148d3cce3f",
   "metadata": {},
   "outputs": [
    {
     "name": "stdout",
     "output_type": "stream",
     "text": [
      "2\n",
      "3\n",
      "4\n",
      "5\n",
      "6\n",
      "7\n",
      "8\n",
      "9\n",
      "10\n",
      "11\n"
     ]
    }
   ],
   "source": [
    "total = 0\n",
    "\n",
    "for number in range(1, 11):\n",
    "    total = number + 1\n",
    "    print(total)"
   ]
  },
  {
   "cell_type": "code",
   "execution_count": 10,
   "id": "f456c004-c19f-4267-b9da-16ab04ea1476",
   "metadata": {},
   "outputs": [
    {
     "name": "stdout",
     "output_type": "stream",
     "text": [
      "2 x 1 = 2\n",
      "2 x 2 = 4\n",
      "2 x 3 = 6\n",
      "2 x 4 = 8\n",
      "2 x 5 = 10\n",
      "2 x 6 = 12\n",
      "2 x 7 = 14\n",
      "2 x 8 = 16\n",
      "2 x 9 = 18\n",
      "----------\n",
      "3 x 1 = 3\n",
      "3 x 2 = 6\n",
      "3 x 3 = 9\n",
      "3 x 4 = 12\n",
      "3 x 5 = 15\n",
      "3 x 6 = 18\n",
      "3 x 7 = 21\n",
      "3 x 8 = 24\n",
      "3 x 9 = 27\n",
      "----------\n",
      "4 x 1 = 4\n",
      "4 x 2 = 8\n",
      "4 x 3 = 12\n",
      "4 x 4 = 16\n",
      "4 x 5 = 20\n",
      "4 x 6 = 24\n",
      "4 x 7 = 28\n",
      "4 x 8 = 32\n",
      "4 x 9 = 36\n",
      "----------\n",
      "5 x 1 = 5\n",
      "5 x 2 = 10\n",
      "5 x 3 = 15\n",
      "5 x 4 = 20\n",
      "5 x 5 = 25\n",
      "5 x 6 = 30\n",
      "5 x 7 = 35\n",
      "5 x 8 = 40\n",
      "5 x 9 = 45\n",
      "----------\n",
      "6 x 1 = 6\n",
      "6 x 2 = 12\n",
      "6 x 3 = 18\n",
      "6 x 4 = 24\n",
      "6 x 5 = 30\n",
      "6 x 6 = 36\n",
      "6 x 7 = 42\n",
      "6 x 8 = 48\n",
      "6 x 9 = 54\n",
      "----------\n",
      "7 x 1 = 7\n",
      "7 x 2 = 14\n",
      "7 x 3 = 21\n",
      "7 x 4 = 28\n",
      "7 x 5 = 35\n",
      "7 x 6 = 42\n",
      "7 x 7 = 49\n",
      "7 x 8 = 56\n",
      "7 x 9 = 63\n",
      "----------\n",
      "8 x 1 = 8\n",
      "8 x 2 = 16\n",
      "8 x 3 = 24\n",
      "8 x 4 = 32\n",
      "8 x 5 = 40\n",
      "8 x 6 = 48\n",
      "8 x 7 = 56\n",
      "8 x 8 = 64\n",
      "8 x 9 = 72\n",
      "----------\n",
      "9 x 1 = 9\n",
      "9 x 2 = 18\n",
      "9 x 3 = 27\n",
      "9 x 4 = 36\n",
      "9 x 5 = 45\n",
      "9 x 6 = 54\n",
      "9 x 7 = 63\n",
      "9 x 8 = 72\n",
      "9 x 9 = 81\n",
      "----------\n"
     ]
    }
   ],
   "source": [
    "for x in range(2, 10):\n",
    "    for y in range(1, 10):\n",
    "        print(f'{x} x {y} = {x * y}')\n",
    "    print('----------')"
   ]
  },
  {
   "cell_type": "markdown",
   "id": "332945c4-0048-44d4-a3b8-e261e3789f71",
   "metadata": {},
   "source": [
    "# 1. 전화번호 프로그램 만들기\n",
    "\n",
    "###### 홍길동 010-123-4567\n",
    "###### 기능1 : 연락처 추가\n",
    "###### 기능2 : 연락처 전체 보기\n",
    "###### 기능3 : 검색, 이름을 입력받아서 전화번호 조회\n",
    "###### 기능4 : 수정, 이름을 입력받아서 전화번호 입력수정\n",
    "###### 기능5 : 삭제, 이름 입력받아서 삭제\n",
    "###### 기능6 : 프로그램종료"
   ]
  },
  {
   "cell_type": "code",
   "execution_count": null,
   "id": "b1fbe4e2-95ea-441e-9cb1-4cc4c5d5e7e8",
   "metadata": {},
   "outputs": [
    {
     "name": "stdout",
     "output_type": "stream",
     "text": [
      "\n",
      "전화번호부 프로그램\n",
      "1. 연락처 추가\n",
      "2. 연락처 전체 보기\n",
      "3. 연락처 검색\n",
      "4. 연락처 수정\n",
      "5. 연락처 삭제\n",
      "6. 프로그램 종료\n"
     ]
    },
    {
     "name": "stdin",
     "output_type": "stream",
     "text": [
      "원하는 기능의 번호를 입력하세요:  010-123-4567\n"
     ]
    },
    {
     "name": "stdout",
     "output_type": "stream",
     "text": [
      "잘못된 입력입니다. 다시 시도해주세요.\n",
      "\n",
      "전화번호부 프로그램\n",
      "1. 연락처 추가\n",
      "2. 연락처 전체 보기\n",
      "3. 연락처 검색\n",
      "4. 연락처 수정\n",
      "5. 연락처 삭제\n",
      "6. 프로그램 종료\n"
     ]
    },
    {
     "name": "stdin",
     "output_type": "stream",
     "text": [
      "원하는 기능의 번호를 입력하세요:  홍길동\n"
     ]
    },
    {
     "name": "stdout",
     "output_type": "stream",
     "text": [
      "잘못된 입력입니다. 다시 시도해주세요.\n",
      "\n",
      "전화번호부 프로그램\n",
      "1. 연락처 추가\n",
      "2. 연락처 전체 보기\n",
      "3. 연락처 검색\n",
      "4. 연락처 수정\n",
      "5. 연락처 삭제\n",
      "6. 프로그램 종료\n"
     ]
    },
    {
     "name": "stdin",
     "output_type": "stream",
     "text": [
      "원하는 기능의 번호를 입력하세요:  1\n",
      "이름을 입력하세요:  홍길동\n",
      "전화번호를 입력하세요:  010-123-4567\n"
     ]
    },
    {
     "name": "stdout",
     "output_type": "stream",
     "text": [
      "홍길동의 연락처가 추가되었습니다.\n",
      "\n",
      "전화번호부 프로그램\n",
      "1. 연락처 추가\n",
      "2. 연락처 전체 보기\n",
      "3. 연락처 검색\n",
      "4. 연락처 수정\n",
      "5. 연락처 삭제\n",
      "6. 프로그램 종료\n"
     ]
    }
   ],
   "source": [
    "# 기본 전화번호부 프로그램\n",
    "\n",
    "# 전화번호부를 저장할 딕셔너리\n",
    "phone_book = {}\n",
    "\n",
    "# 메인 프로그램 루프\n",
    "while True:\n",
    "    print(\"\\n전화번호부 프로그램\")\n",
    "    print(\"1. 연락처 추가\")\n",
    "    print(\"2. 연락처 전체 보기\")\n",
    "    print(\"3. 연락처 검색\")\n",
    "    print(\"4. 연락처 수정\")\n",
    "    print(\"5. 연락처 삭제\")\n",
    "    print(\"6. 프로그램 종료\")\n",
    "    \n",
    "    choice = input(\"원하는 기능의 번호를 입력하세요: \")\n",
    "    \n",
    "    if choice == '1':\n",
    "        # 연락처 추가\n",
    "        name = input(\"이름을 입력하세요: \")\n",
    "        number = input(\"전화번호를 입력하세요: \")\n",
    "        phone_book[name] = number\n",
    "        print(f\"{name}의 연락처가 추가되었습니다.\")\n",
    "    \n",
    "    elif choice == '2':\n",
    "        # 연락처 조회\n",
    "        if phone_book:\n",
    "            for name, number in phone_book.items():\n",
    "                print(f\"{name}: {number}\")\n",
    "        else:\n",
    "            print(\"전화번호부가 비어있습니다.\")\n",
    "    \n",
    "    elif choice == '3':\n",
    "        # 연락처 검색\n",
    "        name = input(\"검색할 이름을 입력하세요: \")\n",
    "        if name in phone_book:\n",
    "            print(f\"{name}의 전화번호는 {phone_book[name]}입니다.\")\n",
    "        else:\n",
    "            print(f\"{name}을(를) 찾을 수 없습니다.\")\n",
    "    \n",
    "    elif choice == '4':\n",
    "        # 연락처 수정\n",
    "        name = input(\"수정할 연락처의 이름을 입력하세요: \")\n",
    "        if name in phone_book:\n",
    "            new_number = input(\"새 전화번호를 입력하세요: \")\n",
    "            phone_book[name] = new_number\n",
    "            print(f\"{name}의 전화번호가 수정되었습니다.\")\n",
    "        else:\n",
    "            print(f\"{name}을(를) 찾을 수 없습니다.\")\n",
    "    \n",
    "    elif choice == '5':\n",
    "        # 연락처 삭제\n",
    "        name = input(\"삭제할 연락처의 이름을 입력하세요: \")\n",
    "        if name in phone_book:\n",
    "            del phone_book[name]\n",
    "            print(f\"{name}의 연락처가 삭제되었습니다.\")\n",
    "        else:\n",
    "            print(f\"{name}을(를) 찾을 수 없습니다.\")\n",
    "    \n",
    "    elif choice == '6':\n",
    "        # 프로그램 종료\n",
    "        print(\"프로그램을 종료합니다.\")\n",
    "        break\n",
    "    \n",
    "    else:\n",
    "        print(\"잘못된 입력입니다. 다시 시도해주세요.\")"
   ]
  },
  {
   "cell_type": "code",
   "execution_count": null,
   "id": "ad7a78ed-75da-4a13-8b10-dc707006dcd7",
   "metadata": {},
   "outputs": [],
   "source": [
    "contact = {}\n",
    "\n",
    "while True:\n",
    "    print('---------전화번호부 프로그램---------')\n",
    "    print('1.추가   2.조회   3.검색   4.수정   5.삭제   9.종료')\n",
    "    menu = int(input('메뉴를 선택해주세요.(숫자 only) : '))\n",
    "    \n",
    "    if menu == 1: # 연락처 추가\n",
    "        print('연락처를 추가합니다.')\n",
    "        new_name = input('이름: ')\n",
    "        new_tel = input('전화번호: ')\n",
    "        print(new_name, new_tel)\n",
    "        # contact[new_name] = new_tel\n",
    "        contact.setdefault(new_name, new_tel)\n",
    "        \n",
    "    elif menu == 2: # 연락처 조회\n",
    "        print('연락처를 조회합니다.')\n",
    "        # print(contact)\n",
    "        for name, tel in contact.items():\n",
    "            print(name, ':', tel)\n",
    "        \n",
    "    elif menu == 3: # 연락처 검색\n",
    "        print('연락처를 검색합니다.')\n",
    "        search_name = input('검색 이름: ')\n",
    "        # print(contact[search_name])\n",
    "        print(contact.get(search_name, '없는 이름입니다.'))\n",
    "        \n",
    "    elif menu == 4: # 연락처 수정\n",
    "        print('연락처를 수정합니다.')\n",
    "        mod_name = input('수정 이름 : ')\n",
    "\n",
    "        if mod_name in contact:\n",
    "            mod_tel = input('새 전화번호: ')\n",
    "            contact[mod_name] = mod_tel\n",
    "        else:\n",
    "            print('등록되지 않은 이름입니다.')       \n",
    "\n",
    "    elif menu == 5: # 연락처 삭제\n",
    "        print('연락처를 삭제합니다.')\n",
    "        del_name = input('삭제 이름 : ')\n",
    "\n",
    "        if del_name in contact:\n",
    "            del contact[del_name]\n",
    "        else:\n",
    "            print('등록되지 않은 이름입니다.')     \n",
    "        \n",
    "    elif menu == 9: # 프로그램 종료\n",
    "        print('프로그램을 종료합니다.')\n",
    "        break\n",
    "\n",
    "    else :\n",
    "        print('잘못된 입력입니다.')"
   ]
  },
  {
   "cell_type": "code",
   "execution_count": null,
   "id": "a5941a05-4d71-4a70-ad7a-f046d923c36c",
   "metadata": {},
   "outputs": [],
   "source": []
  }
 ],
 "metadata": {
  "kernelspec": {
   "display_name": "Python 3 (ipykernel)",
   "language": "python",
   "name": "python3"
  },
  "language_info": {
   "codemirror_mode": {
    "name": "ipython",
    "version": 3
   },
   "file_extension": ".py",
   "mimetype": "text/x-python",
   "name": "python",
   "nbconvert_exporter": "python",
   "pygments_lexer": "ipython3",
   "version": "3.12.4"
  }
 },
 "nbformat": 4,
 "nbformat_minor": 5
}
