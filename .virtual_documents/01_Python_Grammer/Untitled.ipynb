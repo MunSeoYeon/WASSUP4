파이썬에서 True 혹은 False를 갖는 데이터 타입은 무엇인가?
불린? #`bool` 타입입니다.


print(3 == 5)


print(3 < 5)


x = 4
print(1 < x < 5)


print ((3 == 3) and (4 != 3))


print(3 => 4)
#꺽쇠가 3 >= 4


if 4 < 3:
    print("Hello World")


if 4 < 3:   # 이건 틀린 조건이여서 else가 나옴
    print("Hello World.")
else:
    print("Hi, there.")


if True :
    print ("1")
    print ("2")
else :
    print("3")
print("4")


if True :
    if False:
        print("1")
        print("2")
    else:
        print("3")  #else문이 출력되고~ 그 다음 else문
else :
    print("4") # if문에서 값이 나와서 패스
print("5")


#안녕하세요
user = input("안녕하세요")
print(user * 2)


user = input("숫자를 입력하세요:")
print(int(user) + 10)


user = input("")
if int(user) % 2 == 0:
    print("짝수")
else:
    print("홀수")


user = input("입력값: ")
num = 20 + int(user)
if num > 255:
    print(255)
else:
    print(num)


user = input("입력값: ")
num = int(user) - 20
if num > 255:
    print(255)
elif num < 0:
    print(0)
else:
    print(num)


time = input("현재시간: ")
if time[-2:] == "00":
    print("정각 입니다.")
else:
    print("정각이 아닙니다.")


fruit = ["사과", "포도", "홍시"]
user = input("좋아하는 과일은?")
if user in fruit:
    print("정답입니다.")
else:
    print("오답입니다.")


warn_investment_list = ["Microsoft", "Google", "Naver", "Kakao", "SAMSUNG", "LG"]
종목 = input("종목명: ")
if 종목 in warn_investment_list:
    print("투자 경고 종목입니다.")
else:
    print("투자 경고 종목이 아닙니다.")


fruit = {"봄" : "딸기", "여름" : "토마토", "가을" : "사과"}
user = input("제가좋아하는계절은: ")
if user in fruit:
    print("정답입니다.")
else:
    print("오답입니다.")



fruit = {"봄" : "딸기", "여름" : "토마토", "가을" : "사과"}
user = input("좋아하는 과일은?")
if user in fruit.values():
    print("정답입니다.")
else:
    print("오답입니다.")



user = input("")
if user.islower():
    print(user.upper())
else:
    print(user.lower())



score = input("score: ")
score = int(score)
if 81 <= score <= 100:
    print("grade is A")
elif 61 <= score <= 80:
    print("grade is B")
elif 41 <= score <= 60:
    print("grade is C")
elif 21 <= score <= 40:
    print("grade is D")
else:
    print("grade is E")


환율 = {"달러": 1167, 
        "엔": 1.096, 
        "유로": 1268, 
        "위안": 171}
user = input("입력: ")
num, currency = user.split()
print(float(num) * 환율[currency], "원")


num1 = input("input number1: ")
num2 = input("input number2: ")
num3 = input("input number3: ")
num1 = int(num1)
num2 = int(num2)
num3 = int(num3)

if num1 >= num2 and num1 >= num3:
    print(num1)
elif num2 >= num1 and num2 >= num3:
    print(num2)
else:
    print(num3)


number = input("휴대전화 번호 입력: ")
num = number.split("-")[0]
if num == "011":
    com = "SKT"
elif num == "016":
    com = "KT"
elif num == "019":
    com = "LGU"
else:
    com = "알수없음"
print(f"당신은 {com} 사용자입니다.")


우편번호 = input("우편번호: ")
우편번호 = 우편번호[:3]
if 우편번호 in ["010", "011", "012"]:
    print("강북구")
elif 우편번호 in ["014", "015", "016"]:
    print("도봉구")
else:
    print("노원구")


주민번호 = input("주민등록번호: ")
주민번호 = 주민번호.split("-")[1]
if 주민번호[0] == "1" or 주민번호[0] == "3":
    print("남자")
else:
    print("여자")


주민번호 = input("주민등록번호: ")
뒷자리 = 주민번호.split("-")[1]
if 0 <= int(뒷자리[1:3]) <= 8:
    print("서울입니다.")
else:
    print("서울이 아닙니다.")


num = input("주민등록번호: ")
계산1 = int(num[0]) * 2 + int(num[1]) * 3 + int(num[2]) * 4 + int(num[3]) * 5 + int(num[4]) * 6 + \
        int(num[5]) * 7 + int(num[7]) * 8 + int(num[8]) * 9 + int(num[9]) * 2 + int(num[10])* 3 + \
        int(num[11])* 4 + int(num[12]) * 5
계산2 = 11 - (계산1 % 11)
계산3 = str(계산2)

if num[-1] == 계산3[-1]:
    print("유효한 주민등록번호입니다.")
else:
    print("유효하지 않은 주민등록번호입니다.")


import requests
btc = requests.get("https://api.bithumb.com/public/ticker/").json()['data']

변동폭 = float(btc['max_price']) - float(btc['min_price'])
시가 = float(btc['opening_price'])
최고가 = float(btc['max_price'])

if (시가+변동폭) > 최고가:
    print("상승장")
else:
    print("하락장")



과일 = ["사과", "귤", "수박"]
for 변수 in 과일:
    print(변수)


과일 = ["사과", "귤", "수박"]
for 변수 in 과일:
  print("#####")


print("A")
print("B")
print("C")


print("출력:", "A")
print("출력:", "B")
print("출력:", "C")


변수 = "A"
b = 변수.lower()
print("변환:", b)



리스트 = [10, 20, 30]
for 변수 in 리스트:
  print(변수)


for 변수 in [10, 20, 30]:
  print(변수)


for 변수 in [10, 20, 30]:
  print(변수)
  print("-------")


print("++++")
for 변수 in [10, 20, 30]:
  print(변수)


for 변수 in [1, 2, 3, 4]:
  print("-------")


리스트 = [100, 200, 300]
for 변수 in 리스트:
  print(변수 + 10)


리스트 = ["김밥", "라면", "튀김"]
for 메뉴 in 리스트:
  print("오늘의 메뉴: " + 메뉴)



리스트 = ["SK하이닉스", "삼성전자", "LG전자"]
for 종목명 in 리스트:
  print(len(종목명))



리스트 = ['dog', 'cat', 'parrot']
for 이름 in 리스트:
  print(이름, len(이름))


리스트 = ['dog', 'cat', 'parrot']
for 이름 in 리스트:
  print(이름[0])


리스트 = [1, 2, 3]
for 변수 in 리스트:
  print("3 x " + str(변수))


리스트 = [1, 2, 3]
for 변수 in 리스트:
  print("3 x ", 변수, "=", 3 * 변수)


리스트 = ["가", "나", "다", "라"]
나다라 = 리스트[1:]
for 변수 in 나다라:
  print(변수)



리스트 = ["가", "나", "다", "라"]
for 변수 in 리스트[::2]:
  print(변수)


리스트 = ["가", "나", "다", "라"]
for 변수 in 리스트[: :-1]:
  print(변수)


리스트 = [3, -20, -3, 44]
for 변수 in 리스트:
    if 변수 < 0:
        print(변수)



리스트 = [3, 100, 23, 44]
for 변수 in 리스트:
  if 변수 % 3 == 0:
    print(변수)


리스트 = [13, 21, 12, 14, 30, 18]
for 변수 in 리스트:
  if (변수 < 20) and (변수 % 3 == 0):
    print(변수)


리스트 = ["I", "study", "python", "language", "!"]
for 변수 in 리스트:
  if len(변수) >= 3:
    print(변수)


리스트 = ["A", "b", "c", "D"]
for 변수 in 리스트:
  if 변수.isupper():
    print(변수)


리스트 = ["A", "b", "c", "D"]
for 변수 in 리스트:
  if 변수.islower():
    print(변수)


리스트 = ['dog', 'cat', 'parrot']
for 변수 in 리스트:
  print(변수[0].upper() + 변수[1:])


리스트 = ['hello.py', 'ex01.py', 'intro.hwp']
for 변수 in 리스트:
  split = 변수.split(".")
  print(split[0])  


리스트 = ['intra.h', 'intra.c', 'define.h', 'run.py']
for 변수 in 리스트:
  split = 변수.split(".")
  if split[1] == "h":
    print(변수)


리스트 = ['intra.h', 'intra.c', 'define.h', 'run.py']
for 변수 in 리스트:
  split = 변수.split(".")
  if (split[1] == "h") or (split[1] == "c"):
    print(변수)



