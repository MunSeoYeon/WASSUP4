import pandas as pd
from sklearn.ensemble import RandomForestClassifier
from sklearn.preprocessing import StandardScaler
from sklearn.model_selection import GridSearchCV
from sklearn.metrics import accuracy_score, classification_report, confusion_matrix

# 데이터 로드
df = pd.read_csv('C:\\workspace\\WASSUP4\\data\\mini.csv', sep=',')
basic_users = df[df['subscription_type'] == 'Basic']

# 주요 변수 선택 및 타겟 변수 설정
X = basic_users[['customer_inquiry_history', 'subscription_duration', 
                 'average_time_per_learning_session', 'monthly_active_learning_days', 
                 'community_engagement_level', 'total_completed_courses']]
y = basic_users['target']

# 데이터 스케일링
scaler = StandardScaler()
X_scaled = scaler.fit_transform(X)



rf_model = RandomForestClassifier(random_state=42)
param_grid = {
    'n_estimators': [50, 100, 200],
    'max_depth': [None, 10, 20, 30],
    'min_samples_split': [2, 5, 10]
}

# GridSearchCV를 사용하여 최적의 하이퍼파라미터 찾기
grid_search = GridSearchCV(estimator=rf_model, param_grid=param_grid, cv=5, scoring='accuracy', n_jobs=-1)
grid_search.fit(X_scaled, y)

# 최적의 모델로 예측
best_rf_model = grid_search.best_estimator_
y_pred_rf = best_rf_model.predict(X_scaled)



# 성능 평가
accuracy_rf = accuracy_score(y, y_pred_rf)
classification_rf = classification_report(y, y_pred_rf)
conf_matrix_rf = confusion_matrix(y, y_pred_rf)

print("Best Parameters:", grid_search.best_params_)
print("Accuracy:", accuracy_rf)
print("Classification Report:\n", classification_rf)
print("Confusion Matrix:\n", conf_matrix_rf)




