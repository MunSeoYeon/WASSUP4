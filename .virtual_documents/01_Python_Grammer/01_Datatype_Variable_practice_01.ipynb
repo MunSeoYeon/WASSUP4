


a = 80
b = 75
c = 55
평균 = (a+b+c)/3
평균











pin = '881120-1068234'
yyyymmdd = 881120
num =  1068234
print(yyyymmdd, ',', num)

























































