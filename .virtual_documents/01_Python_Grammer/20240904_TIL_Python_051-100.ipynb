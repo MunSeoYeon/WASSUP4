#051
movie_rank = ["닥터 스트레인지", "스플릿", "럭키"]
movie_rank


#052
movie_rank = ["닥터 스트레인지", "스플릿", "럭키"]
movie_rank.append("배트맨")
movie_rank


#053
movie_rank = ['닥터 스트레인지', '스플릿', '럭키', '배트맨']
movie_rank.insert(1, "슈퍼맨")
print(movie_rank)


#054
movie_rank = ['닥터 스트레인지', '슈퍼맨', '스플릿', '럭키', '배트맨']
del movie_rank[3]
print(movie_rank)


#055
movie_rank = ['닥터 스트레인지', '슈퍼맨', '스플릿', '배트맨']
del movie_rank[2:4]
print(movie_rank)


#056
lang1 = ["C", "C++", "JAVA"]
lang2 = ["Python", "Go", "C#"]
langs = lang1 + lang2
langs 


#057
nums = [1, 2, 3, 4, 5, 6, 7]
print("max: ", max(nums))
print("min: ", min(nums))


#058
nums = [1, 2, 3, 4, 5]
print(sum(nums))


#059
cook = ["피자", "김밥", "만두", "양념치킨", "족발", "피자", "김치만두", "쫄면", "소시지", "라면", "팥빙수", "김치전"]
print(len(cook))


#060
nums = [1, 2, 3, 4, 5]
average = sum(nums) / len(nums)
print(average)


#061
price = ['20180728', 100, 130, 140, 150, 160, 170]
print(price[1:])


#062
nums = [1, 2, 3, 4, 5, 6, 7, 8, 9, 10]
print(nums[::2])


#063
nums = [1, 2, 3, 4, 5, 6, 7, 8, 9, 10]
print(nums[1::2])


#064
nums = [1, 2, 3, 4, 5]
print(nums[::-1])


#
interest = ['삼성전자', 'LG전자', 'Naver']
print(interest[0], interest[2])


#066
interest = ['삼성전자', 'LG전자', 'Naver', 'SK하이닉스', '미래에셋대우']
print(" ".join(interest))


#067
interest = ['삼성전자', 'LG전자', 'Naver', 'SK하이닉스', '미래에셋대우']
print("/".join(interest))


#068
interest = ['삼성전자', 'LG전자', 'Naver', 'SK하이닉스', '미래에셋대우']
print("\n".join(interest))


#069
string = "삼성전자/LG전자/Naver"
string = "삼성전자/LG전자/Naver"
interest = string.split("/")
print(interest)


#070
data = [2, 4, 3, 1, 5, 10, 9]
data2 = sorted(data)
print(data2)


#071
my_variable = ()
my_variable


#072
movie_rank = ("닥터 스트레인지", "스플릿", "럭키")
movie_rank


#073
tuple = (1,)
tuple


#074
t = (1, 2, 3)
t[0] = 'a'  #원소의 값을 못바꿈
Traceback (most recent call last):
  File "<pyshell#46>", line 1, in <module>
    t[0] = 'a'
TypeError: 'tuple' object does not support item assignment


#075
t = 1, 2, 3, 4
#튜플타입


#076
t = ('a', 'b', 'c')
t = ('A', 'b', 'c')
t


#077
interest = ('삼성전자', 'LG전자', 'SK Hynix')
data = list(interest)
data


#078
interest = ['삼성전자', 'LG전자', 'SK Hynix']
data = tuple(interest)
data


#079
temp = ('apple', 'banana', 'cake')
a, b, c = temp
print(a, b, c)


#080
data = tuple(range(2, 100, 2))
print( data )



