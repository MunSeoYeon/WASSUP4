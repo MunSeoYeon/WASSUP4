f = open(r"C:\workspace\WASSUP4\OUTPUT\test.txt", 'w')
f.close()


# readline 함수
f = open(r"C:\workspace\WASSUP4\OUTPUT\test.txt", 'r')
lines = f.readline()
for line in lines:
    print(line)
f.close()





f = open(r"C:\workspace\WASSUP4\OUTPUT\test.txt", 'r')
lines = f.readlines()
for line in lines : 
    print(line.strip()) # 줄 끝의 줄 바꿈 문자를 제거한다.
f.close()


# read함수 사용하기
f = open(r"C:\workspace\WASSUP4\OUTPUT\test.txt", 'r')
lines = f.read()
print(type(data))





f = open("C:/doit/새파일.txt",'a')
for i in range(11, 20):
    data = "%d번째 줄입니다.\n" % i
    f.write(data)
f.close()
