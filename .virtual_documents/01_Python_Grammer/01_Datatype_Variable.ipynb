





a = 1
print(a)


b = 'python'
b


c = [1, 2, 3]
c





# 정수형
a = 123
a


a = -178
a


a = 0
a


# 실수형
a = 1.2
b = -3.45
a, b


a = 4.24E10
a = 4.24e-10
a


a = 0o177
print(a)


a = 3
b = 4
a + b


a - b, a * b, a / b


# x의 y제곱을 
a ** b


#나눗셈 후 나머지를 리턴
7 % 3, 3 % 7


#나눗셈 후 몫을 리턴
7 // 4


# 복합연산자
a = a + 1
a


a += 1
a


a -= 1
a








"Hello World"


'Python is fun'


"""Life is too short, You need python"""


'Life is too short, You need python'





"Python is very easy." he says.


'"Python is very easy." he says.'





food = 'Python\'s favorite food is perl'
say = "\"Python is very easy.\" he says."





a = 'Life is too short You need python'


#1. 줄을 바꾸기 위한 이스케이프 코드 \n 삽입하기
multiline = "Life is too short\nYou need python"
multiline


print(multiline) #줄바꿈 변수출력, print출력


#2. 연속된 작은따옴표 3개 또는 큰따옴표 3개 사용하기
'''
... Life is too short
... You need python
... '''


"""
... Life is too short
... You need python
... """





head = "Python"
tail = " is fun!"
head + tail


head * 2


print("=" * 50)
print("My Program")
print("=" * 50)





a = "Life is too short"
len(a)





a = "Life is too short, You need Python"


a[3]


a[17]


a[-1]


a[-6]





a[0] + a[1] + a[2] + a[3]


a[0:3] #끝번호는 인식 안함.


a[0:4]


a = [0:17]


a = "20240431sunny"
date = a[:8]
weather = a[8:]
date, weather


year = a[:4]
day = a[4:8]
year,day


a[:1] + "y"+ a[2:6]





"I eat %d apples." % 3





odd = [1, 3, 5, 7, 9]
odd


a = []
b = [1, 2, 3]
c = ['Life', 'is', 'too', 'short']
d = [1, 2, 'Life', 'is']
e = [1, 2, ['Life', 'is']]
a, b, c, d, e


# 인덱싱과 슬라이싱
a = [1, 2, 3]
a


# 슬라이싱
a = [1, 2, 3, 4, 5]
a[0:2]


a = [1, 2, 3, ['a', 'b', 'c'],4, 5]
a[2:5]


a[3][:2]


# 연산하기
a = [1, 2, 3]
b = [4, 5, 6]
a + b


type(a[0])


str(a[2])


str(a[2])+"hi"


#수정과 삭제
a = [1, 2, 3]
a[2] = 4
a


del a[1]
a


a = [1, 2, 3, 4, 5]
del a[2:]
a


#리스트 관련 함수 (메서드)
#리스트에 요소 추가하기 append
a = [1, 2, 3]
a.append(4)
a


# 리스트 정렬
a = [1, 4, 3, 2]
a.sort()
a


#리스트 뒤집기 reverse
>>> a = ['a', 'c', 'b']
>>> a.reverse()
>>> a


>>> a = [1, 2, 3]
>>> a.index(3)


a.index(1)


# 리스트 요소 제거 remove
a = [3, 1, 2, 3, 4]
a.remove(3)
a





t1 = ()
t2 = (1,)
t3 = (1, 2, 3)
t4 = 1, 2, 3
t5 = ('a', 'b', ('ab', 'cd'))
t1, t2, t3, t4, t5


type(t1), type(t2), type(t3), type(t4)


# 튜플다루기
t1[1:]


# 튜플더하기
#딕셔너리 쌍 추가, 삭제하기
a = {1: 'a'}
a


a['name'] = 'pey'
a


s1 = set([1, 2, 3, 4, 5, 6])
s2 = set([4, 5, 6, 7, 8, 9])


# 합집합


#교집합


#차집합
