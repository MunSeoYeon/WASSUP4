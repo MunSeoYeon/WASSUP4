{
 "cells": [
  {
   "cell_type": "code",
   "execution_count": 2,
   "id": "0a8832f5-2893-4d13-b810-928090df1ec9",
   "metadata": {},
   "outputs": [],
   "source": [
    "def print_coin():\n",
    "    print(\"비트코인\")"
   ]
  },
  {
   "cell_type": "code",
   "execution_count": 3,
   "id": "740ff5c4-de2f-4594-aff3-bb9c09be86f1",
   "metadata": {},
   "outputs": [
    {
     "name": "stdout",
     "output_type": "stream",
     "text": [
      "비트코인\n"
     ]
    }
   ],
   "source": [
    "print_coin()"
   ]
  },
  {
   "cell_type": "code",
   "execution_count": 4,
   "id": "cc58d620-13c7-455d-9297-973efcd4ed01",
   "metadata": {},
   "outputs": [
    {
     "name": "stdout",
     "output_type": "stream",
     "text": [
      "비트코인\n",
      "비트코인\n",
      "비트코인\n",
      "비트코인\n",
      "비트코인\n",
      "비트코인\n",
      "비트코인\n",
      "비트코인\n",
      "비트코인\n",
      "비트코인\n",
      "비트코인\n",
      "비트코인\n",
      "비트코인\n",
      "비트코인\n",
      "비트코인\n",
      "비트코인\n",
      "비트코인\n",
      "비트코인\n",
      "비트코인\n",
      "비트코인\n",
      "비트코인\n",
      "비트코인\n",
      "비트코인\n",
      "비트코인\n",
      "비트코인\n",
      "비트코인\n",
      "비트코인\n",
      "비트코인\n",
      "비트코인\n",
      "비트코인\n",
      "비트코인\n",
      "비트코인\n",
      "비트코인\n",
      "비트코인\n",
      "비트코인\n",
      "비트코인\n",
      "비트코인\n",
      "비트코인\n",
      "비트코인\n",
      "비트코인\n",
      "비트코인\n",
      "비트코인\n",
      "비트코인\n",
      "비트코인\n",
      "비트코인\n",
      "비트코인\n",
      "비트코인\n",
      "비트코인\n",
      "비트코인\n",
      "비트코인\n",
      "비트코인\n",
      "비트코인\n",
      "비트코인\n",
      "비트코인\n",
      "비트코인\n",
      "비트코인\n",
      "비트코인\n",
      "비트코인\n",
      "비트코인\n",
      "비트코인\n",
      "비트코인\n",
      "비트코인\n",
      "비트코인\n",
      "비트코인\n",
      "비트코인\n",
      "비트코인\n",
      "비트코인\n",
      "비트코인\n",
      "비트코인\n",
      "비트코인\n",
      "비트코인\n",
      "비트코인\n",
      "비트코인\n",
      "비트코인\n",
      "비트코인\n",
      "비트코인\n",
      "비트코인\n",
      "비트코인\n",
      "비트코인\n",
      "비트코인\n",
      "비트코인\n",
      "비트코인\n",
      "비트코인\n",
      "비트코인\n",
      "비트코인\n",
      "비트코인\n",
      "비트코인\n",
      "비트코인\n",
      "비트코인\n",
      "비트코인\n",
      "비트코인\n",
      "비트코인\n",
      "비트코인\n",
      "비트코인\n",
      "비트코인\n",
      "비트코인\n",
      "비트코인\n",
      "비트코인\n",
      "비트코인\n",
      "비트코인\n"
     ]
    }
   ],
   "source": [
    "for i in range(100):\n",
    "    print_coin()"
   ]
  },
  {
   "cell_type": "code",
   "execution_count": 5,
   "id": "09e55e46-0953-4e01-a9ef-d441eadda3de",
   "metadata": {},
   "outputs": [],
   "source": [
    "def print_coins():\n",
    "    for i in range(100):\n",
    "        print(\"비트코인\")\n"
   ]
  },
  {
   "cell_type": "code",
   "execution_count": 6,
   "id": "90ecd6cd-521c-4ec8-83ba-a3c5d3df4276",
   "metadata": {},
   "outputs": [
    {
     "ename": "NameError",
     "evalue": "name 'hello' is not defined",
     "output_type": "error",
     "traceback": [
      "\u001b[1;31m---------------------------------------------------------------------------\u001b[0m",
      "\u001b[1;31mNameError\u001b[0m                                 Traceback (most recent call last)",
      "Cell \u001b[1;32mIn[6], line 1\u001b[0m\n\u001b[1;32m----> 1\u001b[0m hello()\n\u001b[0;32m      2\u001b[0m \u001b[38;5;28;01mdef\u001b[39;00m \u001b[38;5;21mhello\u001b[39m():\n\u001b[0;32m      3\u001b[0m     \u001b[38;5;28mprint\u001b[39m(\u001b[38;5;124m\"\u001b[39m\u001b[38;5;124mHi\u001b[39m\u001b[38;5;124m\"\u001b[39m)\n",
      "\u001b[1;31mNameError\u001b[0m: name 'hello' is not defined"
     ]
    }
   ],
   "source": [
    "hello()\n",
    "def hello():\n",
    "    print(\"Hi\") # 함수 정의 하지 않음"
   ]
  },
  {
   "cell_type": "code",
   "execution_count": 7,
   "id": "cfd641f3-1c73-4bb4-a43b-327e0f1f0541",
   "metadata": {},
   "outputs": [
    {
     "name": "stdout",
     "output_type": "stream",
     "text": [
      "A\n",
      "B\n",
      "C\n",
      "A\n",
      "B\n"
     ]
    }
   ],
   "source": [
    "def message() :\n",
    "    print(\"A\")\n",
    "    print(\"B\")\n",
    "\n",
    "message()\n",
    "print(\"C\")\n",
    "message()\n"
   ]
  },
  {
   "cell_type": "code",
   "execution_count": 8,
   "id": "6bd83aae-b816-4e98-829b-1105be61b553",
   "metadata": {},
   "outputs": [
    {
     "name": "stdout",
     "output_type": "stream",
     "text": [
      "A\n",
      "C\n",
      "B\n"
     ]
    }
   ],
   "source": [
    "print(\"A\")\n",
    "\n",
    "def message() :\n",
    "    print(\"B\")\n",
    "\n",
    "print(\"C\")\n",
    "message()\n"
   ]
  },
  {
   "cell_type": "code",
   "execution_count": 9,
   "id": "e0401b63-b926-4675-8b2c-2b58b6a88c53",
   "metadata": {},
   "outputs": [
    {
     "name": "stdout",
     "output_type": "stream",
     "text": [
      "A\n",
      "C\n",
      "B\n",
      "E\n",
      "D\n"
     ]
    }
   ],
   "source": [
    "print(\"A\")\n",
    "def message1() :\n",
    "    print(\"B\")\n",
    "print(\"C\")\n",
    "def message2() :\n",
    "    print(\"D\")\n",
    "message1()\n",
    "print(\"E\")\n",
    "message2()\n"
   ]
  },
  {
   "cell_type": "code",
   "execution_count": 10,
   "id": "fdabe76d-6c18-4193-b14f-64679daa1c3f",
   "metadata": {},
   "outputs": [
    {
     "name": "stdout",
     "output_type": "stream",
     "text": [
      "B\n",
      "A\n"
     ]
    }
   ],
   "source": [
    "def message1():\n",
    "    print(\"A\")\n",
    "\n",
    "def message2():\n",
    "    print(\"B\")\n",
    "    message1()\n",
    "\n",
    "message2()\n"
   ]
  },
  {
   "cell_type": "code",
   "execution_count": 11,
   "id": "dc60ef72-8357-4fd9-a4d9-614cfc827f90",
   "metadata": {},
   "outputs": [
    {
     "name": "stdout",
     "output_type": "stream",
     "text": [
      "B\n",
      "C\n",
      "B\n",
      "C\n",
      "B\n",
      "C\n",
      "A\n"
     ]
    }
   ],
   "source": [
    "def message1():\n",
    "    print(\"A\")\n",
    "\n",
    "def message2():\n",
    "    print(\"B\")\n",
    "\n",
    "def message3():\n",
    "    for i in range (3) :\n",
    "        message2()\n",
    "        print(\"C\")\n",
    "    message1()\n",
    "\n",
    "message3()\n"
   ]
  },
  {
   "cell_type": "code",
   "execution_count": 12,
   "id": "7fe90a94-6168-4c80-a7cb-36a5292a67d1",
   "metadata": {},
   "outputs": [
    {
     "name": "stdout",
     "output_type": "stream",
     "text": [
      "안녕\n",
      "Hi\n"
     ]
    }
   ],
   "source": [
    "def 함수(문자열) :\n",
    "    print(문자열)\n",
    "\n",
    "함수(\"안녕\")\n",
    "함수(\"Hi\")\n",
    "\n"
   ]
  },
  {
   "cell_type": "code",
   "execution_count": 13,
   "id": "ab52e275-c7d9-4cd5-b7d3-c202cae9257f",
   "metadata": {},
   "outputs": [
    {
     "name": "stdout",
     "output_type": "stream",
     "text": [
      "7\n",
      "15\n"
     ]
    }
   ],
   "source": [
    "def 함수(a, b) :\n",
    "    print(a + b)\n",
    "\n",
    "함수(3, 4)\n",
    "함수(7, 8)\n"
   ]
  },
  {
   "cell_type": "code",
   "execution_count": 14,
   "id": "63b21b9c-1dda-495d-9b1b-1805e0614347",
   "metadata": {},
   "outputs": [],
   "source": [
    "def 함수(문자열) :\n",
    "    print(문자열)\n"
   ]
  },
  {
   "cell_type": "code",
   "execution_count": 15,
   "id": "824cc3e1-7895-4a92-8163-03f822c810d5",
   "metadata": {},
   "outputs": [
    {
     "ename": "TypeError",
     "evalue": "can only concatenate str (not \"int\") to str",
     "output_type": "error",
     "traceback": [
      "\u001b[1;31m---------------------------------------------------------------------------\u001b[0m",
      "\u001b[1;31mTypeError\u001b[0m                                 Traceback (most recent call last)",
      "Cell \u001b[1;32mIn[15], line 4\u001b[0m\n\u001b[0;32m      1\u001b[0m \u001b[38;5;28;01mdef\u001b[39;00m \u001b[38;5;21m함수\u001b[39m(a, b) :\n\u001b[0;32m      2\u001b[0m     \u001b[38;5;28mprint\u001b[39m(a \u001b[38;5;241m+\u001b[39m b)\n\u001b[1;32m----> 4\u001b[0m 함수(\u001b[38;5;124m\"\u001b[39m\u001b[38;5;124m안녕\u001b[39m\u001b[38;5;124m\"\u001b[39m, \u001b[38;5;241m3\u001b[39m)\n",
      "Cell \u001b[1;32mIn[15], line 2\u001b[0m, in \u001b[0;36m함수\u001b[1;34m(a, b)\u001b[0m\n\u001b[0;32m      1\u001b[0m \u001b[38;5;28;01mdef\u001b[39;00m \u001b[38;5;21m함수\u001b[39m(a, b) :\n\u001b[1;32m----> 2\u001b[0m     \u001b[38;5;28mprint\u001b[39m(a \u001b[38;5;241m+\u001b[39m b)\n",
      "\u001b[1;31mTypeError\u001b[0m: can only concatenate str (not \"int\") to str"
     ]
    }
   ],
   "source": [
    "def 함수(a, b) :\n",
    "    print(a + b)\n",
    "\n",
    "함수(\"안녕\", 3)\n"
   ]
  },
  {
   "cell_type": "code",
   "execution_count": 17,
   "id": "7a33aa67-dd20-4271-9b8f-be6bc0f44e9b",
   "metadata": {},
   "outputs": [],
   "source": [
    "def print_with_smile (string) :\n",
    "    print (string + \":D\")"
   ]
  },
  {
   "cell_type": "code",
   "execution_count": 18,
   "id": "9905ee70-48f7-4b2d-98ef-5e98b58860b2",
   "metadata": {},
   "outputs": [
    {
     "name": "stdout",
     "output_type": "stream",
     "text": [
      "안녕하세요:D\n"
     ]
    }
   ],
   "source": [
    "print_with_smile(\"안녕하세요\")\n"
   ]
  },
  {
   "cell_type": "code",
   "execution_count": 20,
   "id": "d89b7907-29de-40c8-b77b-78ed0b26f69a",
   "metadata": {},
   "outputs": [],
   "source": [
    "def print_upper_price(price) :\n",
    "    print(price * 1.3)\n"
   ]
  },
  {
   "cell_type": "code",
   "execution_count": 21,
   "id": "aac15d12-6710-40c4-9f06-9ef378728dbc",
   "metadata": {},
   "outputs": [],
   "source": [
    "def print_sum (a, b) :\n",
    "    print (a + b)\n"
   ]
  },
  {
   "cell_type": "code",
   "execution_count": 24,
   "id": "2ce7c545-658b-40bf-be45-448f1e6663a3",
   "metadata": {},
   "outputs": [
    {
     "name": "stdout",
     "output_type": "stream",
     "text": [
      "3 + 4 = 7\n",
      "3 - 4 = -1\n",
      "3 * 4 = 12\n",
      "3 / 4 = 0.75\n"
     ]
    }
   ],
   "source": [
    "def print_arithmetic_operation(a, b):\n",
    "    print(a, \"+\", b, \"=\", a + b)\n",
    "    print(a, \"-\", b, \"=\", a - b)\n",
    "    print(a, \"*\", b, \"=\", a * b)\n",
    "    print(a, \"/\", b, \"=\", a / b)\n",
    "print_arithmetic_operation(3, 4)"
   ]
  },
  {
   "cell_type": "code",
   "execution_count": 25,
   "id": "a1fc74b2-157c-4842-a6e4-7530b73b7475",
   "metadata": {},
   "outputs": [],
   "source": [
    "def print_max(a, b, c) :\n",
    "    max_val = 0\n",
    "    if a > max_val :\n",
    "        max_val = a\n",
    "    if b > max_val :\n",
    "        max_val = b\n",
    "    if c > max_val :\n",
    "        max_val = c\n",
    "    print(max_val)\n"
   ]
  },
  {
   "cell_type": "code",
   "execution_count": 26,
   "id": "9f54f4d5-e651-4ebf-ac53-6775bc12546d",
   "metadata": {},
   "outputs": [
    {
     "name": "stdout",
     "output_type": "stream",
     "text": [
      "nohtyp\n"
     ]
    }
   ],
   "source": [
    "def print_reverse(string) :\n",
    "    print(string[::-1])\n",
    "print_reverse(\"python\")\n"
   ]
  },
  {
   "cell_type": "code",
   "execution_count": 27,
   "id": "2090501b-22c7-4447-90cb-5daf9bac7ec3",
   "metadata": {},
   "outputs": [
    {
     "name": "stdout",
     "output_type": "stream",
     "text": [
      "2.0\n"
     ]
    }
   ],
   "source": [
    "def print_score(score_list) :\n",
    "    print(sum(score_list)/len(score_list))\n",
    "print_score ([1, 2, 3])\n"
   ]
  },
  {
   "cell_type": "code",
   "execution_count": 28,
   "id": "87cb253e-9005-4840-afbd-0d161880f2b6",
   "metadata": {},
   "outputs": [
    {
     "name": "stdout",
     "output_type": "stream",
     "text": [
      "2\n",
      "10\n",
      "12\n"
     ]
    }
   ],
   "source": [
    "def print_even (my_list) :\n",
    "    for v in my_list :\n",
    "        if v % 2 == 0 :\n",
    "            print(v)\n",
    "print_even ([1, 3, 2, 10, 12, 11, 15])\n"
   ]
  },
  {
   "cell_type": "code",
   "execution_count": 29,
   "id": "9d76b341-9448-4939-8a62-ef287abc4683",
   "metadata": {},
   "outputs": [
    {
     "name": "stdout",
     "output_type": "stream",
     "text": [
      "이름\n",
      "나이\n",
      "성별\n"
     ]
    }
   ],
   "source": [
    "def print_keys(dic):\n",
    "    for keys in dic.keys():\n",
    "        print(keys)\n",
    "print_keys ({\"이름\":\"김말똥\", \"나이\":30, \"성별\":0})\n"
   ]
  },
  {
   "cell_type": "code",
   "execution_count": 35,
   "id": "3095c8bf-e120-406a-8348-cb080d2d4728",
   "metadata": {},
   "outputs": [
    {
     "name": "stdout",
     "output_type": "stream",
     "text": [
      "[100, 130, 100, 100]\n"
     ]
    }
   ],
   "source": [
    "my_dict = {\"10/26\" : [100, 130, 100, 100],\n",
    "           \"10/27\" : [10, 12, 10, 11]}\n",
    "def print_value_by_key (my_dict, key) :\n",
    "    print(my_dict[key])\n",
    "print_value_by_key  (my_dict, \"10/26\")\n"
   ]
  },
  {
   "cell_type": "code",
   "execution_count": 37,
   "id": "c10c4551-faa2-45b6-b9a5-037c23032637",
   "metadata": {},
   "outputs": [
    {
     "name": "stdout",
     "output_type": "stream",
     "text": [
      "아이엠어보\n",
      "이유알어걸\n",
      "\n"
     ]
    }
   ],
   "source": [
    "def print_5xn(line):\n",
    "    chunk_num = int(len(line) / 5)\n",
    "    for x in range(chunk_num + 1) :\n",
    "        print(line[x * 5: x * 5 + 5])\n",
    "print_5xn(\"아이엠어보이유알어걸\")"
   ]
  },
  {
   "cell_type": "code",
   "execution_count": 43,
   "id": "7d85714b-34c6-49c0-a900-72679b69eca9",
   "metadata": {},
   "outputs": [
    {
     "name": "stdout",
     "output_type": "stream",
     "text": [
      "아이엠\n",
      "어보이\n",
      "유알어\n",
      "걸\n"
     ]
    }
   ],
   "source": [
    "def print_mxn(line, num):\n",
    "    chunk_num = int(len(line) / num)\n",
    "    for x in range(chunk_num + 1):\n",
    "        print(line[x * num: x * num + num])\n",
    "\n",
    "# 함수 호출\n",
    "print_mxn(\"아이엠어보이유알어걸\", 3)\n"
   ]
  },
  {
   "cell_type": "code",
   "execution_count": 45,
   "id": "5a8cfa2d-8b45-4e99-a12a-14a7adf36b74",
   "metadata": {},
   "outputs": [
    {
     "name": "stdout",
     "output_type": "stream",
     "text": [
      "1000000\n"
     ]
    }
   ],
   "source": [
    "# 함수 정의\n",
    "def calc_monthly_salary(annual_pay):\n",
    "    monthly_pay = int(annual_pay / 12)\n",
    "    return monthly_pay\n",
    "\n",
    "# 함수 호출\n",
    "print(calc_monthly_salary(12000000))\n",
    "\n"
   ]
  },
  {
   "cell_type": "code",
   "execution_count": 46,
   "id": "8aec49ab-f0f0-48c5-8e69-c5fe00ae7f80",
   "metadata": {},
   "outputs": [
    {
     "name": "stdout",
     "output_type": "stream",
     "text": [
      "왼쪽: 100\n",
      "오른쪽: 200\n"
     ]
    }
   ],
   "source": [
    "def my_print (a, b) :\n",
    "    print(\"왼쪽:\", a)\n",
    "    print(\"오른쪽:\", b)\n",
    "\n",
    "my_print(a=100, b=200)\n"
   ]
  },
  {
   "cell_type": "code",
   "execution_count": 47,
   "id": "8e2b1f38-3138-4b9a-93ec-2aaceedc6122",
   "metadata": {},
   "outputs": [
    {
     "name": "stdout",
     "output_type": "stream",
     "text": [
      "왼쪽: 200\n",
      "오른쪽: 100\n"
     ]
    }
   ],
   "source": [
    "def my_print (a, b) :\n",
    "    print(\"왼쪽:\", a)\n",
    "    print(\"오른쪽:\", b)\n",
    "\n",
    "my_print(b=100, a=200)\n"
   ]
  },
  {
   "cell_type": "code",
   "execution_count": 48,
   "id": "461dd04d-c11c-497d-8f78-c168cc2bb235",
   "metadata": {},
   "outputs": [
    {
     "ename": "NameError",
     "evalue": "name 'result' is not defined",
     "output_type": "error",
     "traceback": [
      "\u001b[1;31m---------------------------------------------------------------------------\u001b[0m",
      "\u001b[1;31mNameError\u001b[0m                                 Traceback (most recent call last)",
      "Cell \u001b[1;32mIn[48], line 5\u001b[0m\n\u001b[0;32m      2\u001b[0m     result \u001b[38;5;241m=\u001b[39m n \u001b[38;5;241m+\u001b[39m \u001b[38;5;241m1\u001b[39m\n\u001b[0;32m      4\u001b[0m n_plus_1(\u001b[38;5;241m3\u001b[39m)\n\u001b[1;32m----> 5\u001b[0m \u001b[38;5;28mprint\u001b[39m (result)\n",
      "\u001b[1;31mNameError\u001b[0m: name 'result' is not defined"
     ]
    }
   ],
   "source": [
    "def n_plus_1 (n) :\n",
    "    result = n + 1\n",
    "\n",
    "n_plus_1(3)\n",
    "print (result)\n",
    "#리턴사용?"
   ]
  },
  {
   "cell_type": "code",
   "execution_count": 50,
   "id": "4de222c9-98e0-4c16-a04a-c413902a9c2e",
   "metadata": {},
   "outputs": [
    {
     "data": {
      "text/plain": [
       "'www.naver.com'"
      ]
     },
     "execution_count": 50,
     "metadata": {},
     "output_type": "execute_result"
    }
   ],
   "source": [
    "def make_url(string) :\n",
    "    return \"www.\" + string + \".com\"\n",
    "make_url(\"naver\")\n"
   ]
  },
  {
   "cell_type": "code",
   "execution_count": 51,
   "id": "cdf8f1db-d83c-4589-bf94-455cf1cbb7b9",
   "metadata": {},
   "outputs": [
    {
     "data": {
      "text/plain": [
       "['a', 'b', 'c', 'd']"
      ]
     },
     "execution_count": 51,
     "metadata": {},
     "output_type": "execute_result"
    }
   ],
   "source": [
    "def make_list (string) :\n",
    "    return list(string)\n",
    "make_list(\"abcd\")\n",
    "    \n"
   ]
  },
  {
   "cell_type": "code",
   "execution_count": 53,
   "id": "7a21edb8-f167-4c92-acff-a275e1c36980",
   "metadata": {},
   "outputs": [
    {
     "data": {
      "text/plain": [
       "[4, 6, 8]"
      ]
     },
     "execution_count": 53,
     "metadata": {},
     "output_type": "execute_result"
    }
   ],
   "source": [
    "def pickup_even(items):\n",
    "    result = []\n",
    "    for item in items:\n",
    "        if item % 2 == 0:\n",
    "            result.append(item)\n",
    "    return result\n",
    "pickup_even([3, 4, 5, 6, 7, 8])"
   ]
  },
  {
   "cell_type": "code",
   "execution_count": 55,
   "id": "92223dc2-a7ba-4b50-80d1-6243b9bb412a",
   "metadata": {},
   "outputs": [
    {
     "data": {
      "text/plain": [
       "1234567"
      ]
     },
     "execution_count": 55,
     "metadata": {},
     "output_type": "execute_result"
    }
   ],
   "source": [
    "def convert_int (string) :\n",
    "    return int(string.replace(',', ''))\n",
    "convert_int(\"1,234,567\")\n"
   ]
  },
  {
   "cell_type": "code",
   "execution_count": 56,
   "id": "0383cbe1-2959-4bed-a2f1-0edc98fb874f",
   "metadata": {},
   "outputs": [
    {
     "name": "stdout",
     "output_type": "stream",
     "text": [
      "22\n"
     ]
    }
   ],
   "source": [
    "def 함수(num) :\n",
    "    return num + 4\n",
    "\n",
    "a = 함수(10)\n",
    "b = 함수(a)\n",
    "c = 함수(b)\n",
    "print(c)\n"
   ]
  },
  {
   "cell_type": "code",
   "execution_count": 57,
   "id": "7bfe6d76-0eb4-462f-a051-2802f0688b8c",
   "metadata": {},
   "outputs": [
    {
     "name": "stdout",
     "output_type": "stream",
     "text": [
      "22\n"
     ]
    }
   ],
   "source": [
    "def 함수(num) :\n",
    "    return num + 4\n",
    "\n",
    "c = 함수(함수(함수(10)))\n",
    "print(c)\n"
   ]
  },
  {
   "cell_type": "code",
   "execution_count": 58,
   "id": "372ace66-c7bb-400e-bd30-fb464bac8fb9",
   "metadata": {},
   "outputs": [
    {
     "name": "stdout",
     "output_type": "stream",
     "text": [
      "140\n"
     ]
    }
   ],
   "source": [
    "def 함수1(num) :\n",
    "    return num + 4\n",
    "\n",
    "def 함수2(num) :\n",
    "    return num * 10\n",
    "\n",
    "a = 함수1(10)\n",
    "c = 함수2(a)\n",
    "print(c)\n"
   ]
  },
  {
   "cell_type": "code",
   "execution_count": 59,
   "id": "b59a3861-698a-4aa8-ad14-6e27c4bd8282",
   "metadata": {},
   "outputs": [
    {
     "name": "stdout",
     "output_type": "stream",
     "text": [
      "16\n"
     ]
    }
   ],
   "source": [
    "def 함수1(num) :\n",
    "    return num + 4\n",
    "\n",
    "def 함수2(num) :\n",
    "    num = num + 2\n",
    "    return 함수1(num)\n",
    "\n",
    "c = 함수2(10)\n",
    "print(c)\n"
   ]
  },
  {
   "cell_type": "code",
   "execution_count": null,
   "id": "3fbb34ec-e469-4a0d-9fa5-f8b0e23cfe1e",
   "metadata": {},
   "outputs": [],
   "source": [
    "def 함수0(num) :\n",
    "    return num * 2\n",
    "\n",
    "def 함수1(num) :\n",
    "    return 함수0(num + 2)\n",
    "\n",
    "def 함수2(num) :\n",
    "    num = num + 10\n",
    "    return 함수1(num)\n",
    "\n",
    "c = 함수2(2)\n",
    "print(c)\n",
    "\n"
   ]
  }
 ],
 "metadata": {
  "kernelspec": {
   "display_name": "Python 3 (ipykernel)",
   "language": "python",
   "name": "python3"
  },
  "language_info": {
   "codemirror_mode": {
    "name": "ipython",
    "version": 3
   },
   "file_extension": ".py",
   "mimetype": "text/x-python",
   "name": "python",
   "nbconvert_exporter": "python",
   "pygments_lexer": "ipython3",
   "version": "3.12.4"
  }
 },
 "nbformat": 4,
 "nbformat_minor": 5
}
