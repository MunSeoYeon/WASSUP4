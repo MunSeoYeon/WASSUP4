for i in range(100):
    print(i)


for year in range(2002, 2051, 4):
    print(year)



for i in range(3, 31, 3):
    print(i)



for i in range(99, -1, -1):
    print(i)



for i in range(10):
    print(f"0.{i}")


for i in range(1, 10):
    print(f"3 x {i} = {3 * i}")


for i in range(1, 10, 2):
    print(f"3 x {i} = {3 * i}")



total = 0
for i in range(1, 11):
    total += i
print(total)



total = 0
for i in range(1, 11, 2):
    total += i
print(total)



product = 1
for i in range(1, 11):
    product *= i
print(product)



price_list = [32100, 32150, 32000, 32500]
for price in price_list:
    print(price)



price_list = [32100, 32150, 32000, 32500]
for i in range(len(price_list)):
    print(i, price_list[i])



price_list = [32100, 32150, 32000, 32500]
for i in range(1, len(price_list)):
    print(90 + 10 * i, price_list[i])



price_list = [32100, 32150, 32000, 32500]
for i in range(len(price_list) - 1, -1, -1):
    print(price_list[i])


my_list = ["가", "나", "다", "라", "마"]
for i in range(len(my_list) - 2):
    print(my_list[i], my_list[i + 1], my_list[i + 2])



my_list = ["가", "나", "다", "라"]
for i in range(len(my_list) - 1, 0, -1):
    print(my_list[i], my_list[i - 1])



my_list = [100, 200, 300, 400]
for num in my_list:
    print(num + 10)



my_list = [100, 200, 300, 400, 500]
for i in range(1, len(my_list)):
    print(my_list[i] - my_list[i - 1])



my_list = [100, 200, 300, 400, 500]
for i in range(len(my_list) - 1, 0, -1):
    print(my_list[i] - my_list[i - 1])



apart = [["101호", "102호"], ["201호", "202호"], ["301호", "302호"]]


stock = [["시가", 100, 200, 300], ["종가", 80, 210, 330]]



stock = [["시가", 100, 200, 300, 400], ["종가", 80, 210, 330, 500]]
print(stock[0])


stock = [["시가", 100, 200, 300, 400], ["종가", 80, 210, 330, 500]]
print(stock[1][1:])



menu = ["면라", "김밥", "음료", "디저트"]
for item in menu:
    print("오늘의 메뉴:", item)



menu = ["면라", "김밥", "음료", "디저트"]
for index, item in enumerate(menu):
    print(f"{index + 1}. {item}")



menu = ["면라", "김밥", "음료", "디저트"]
for index, item in enumerate(menu, start=101):
    print(f"{index}. {item}")



menu = ["면라", "김밥", "음료", "디저트"]
for i in range(len(menu) - 1, -1, -1):
    print(menu[i])



menu = ["면라", "김밥", "음료", "디저트"]
for i in range(1, len(menu), 2):
    print(menu[i])



data = {'메로나': 1000, '폴라포': 1200, '빵빠레': 1800}
print(data)



data = {'메로나': 1000, '폴라포': 1200, '빵빠레': 1800}
print(data['메로나'])



data = {'메로나': 1000, '폴라포': 1200, '빵빠레': 1800}
data['메로나'] = 1300
print(data)



for line in data:
    for column in line:
        print(column * 1.00014)




for line in data:
    for column in line:
        print(column * 1.00014)
    print("----")




