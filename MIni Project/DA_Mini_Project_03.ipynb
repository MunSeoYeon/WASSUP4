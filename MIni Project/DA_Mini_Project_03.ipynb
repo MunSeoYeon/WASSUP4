{
 "cells": [
  {
   "cell_type": "code",
   "execution_count": 3,
   "id": "4111e5e3-61ff-4370-b8dd-f5d31d4f9dad",
   "metadata": {},
   "outputs": [],
   "source": [
    "import pandas as pd\n",
    "from sklearn.ensemble import RandomForestClassifier\n",
    "from sklearn.preprocessing import StandardScaler\n",
    "from sklearn.model_selection import GridSearchCV\n",
    "from sklearn.metrics import accuracy_score, classification_report, confusion_matrix\n",
    "\n",
    "# 데이터 로드\n",
    "df = pd.read_csv('C:\\\\workspace\\\\WASSUP4\\\\data\\\\mini.csv', sep=',')\n",
    "basic_users = df[df['subscription_type'] == 'Basic']\n",
    "\n",
    "# 주요 변수 선택 및 타겟 변수 설정\n",
    "X = basic_users[['customer_inquiry_history', 'subscription_duration', \n",
    "                 'average_time_per_learning_session', 'monthly_active_learning_days', \n",
    "                 'community_engagement_level', 'total_completed_courses']]\n",
    "y = basic_users['target']\n",
    "\n",
    "# 데이터 스케일링\n",
    "scaler = StandardScaler()\n",
    "X_scaled = scaler.fit_transform(X)\n"
   ]
  },
  {
   "cell_type": "code",
   "execution_count": 4,
   "id": "5e0bf4b2-0c75-47e5-a424-f81fb0dbca98",
   "metadata": {},
   "outputs": [],
   "source": [
    "rf_model = RandomForestClassifier(random_state=42)\n",
    "param_grid = {\n",
    "    'n_estimators': [50, 100, 200],\n",
    "    'max_depth': [None, 10, 20, 30],\n",
    "    'min_samples_split': [2, 5, 10]\n",
    "}\n",
    "\n",
    "# GridSearchCV를 사용하여 최적의 하이퍼파라미터 찾기\n",
    "grid_search = GridSearchCV(estimator=rf_model, param_grid=param_grid, cv=5, scoring='accuracy', n_jobs=-1)\n",
    "grid_search.fit(X_scaled, y)\n",
    "\n",
    "# 최적의 모델로 예측\n",
    "best_rf_model = grid_search.best_estimator_\n",
    "y_pred_rf = best_rf_model.predict(X_scaled)\n"
   ]
  },
  {
   "cell_type": "code",
   "execution_count": 5,
   "id": "38d13302-1055-4b4d-877d-2741aaf08d6e",
   "metadata": {},
   "outputs": [
    {
     "name": "stdout",
     "output_type": "stream",
     "text": [
      "Best Parameters: {'max_depth': 10, 'min_samples_split': 10, 'n_estimators': 200}\n",
      "Accuracy: 0.6394045827061382\n",
      "Classification Report:\n",
      "               precision    recall  f1-score   support\n",
      "\n",
      "           0       1.00      0.06      0.11      2296\n",
      "           1       0.63      1.00      0.77      3683\n",
      "\n",
      "    accuracy                           0.64      5979\n",
      "   macro avg       0.82      0.53      0.44      5979\n",
      "weighted avg       0.77      0.64      0.52      5979\n",
      "\n",
      "Confusion Matrix:\n",
      " [[ 140 2156]\n",
      " [   0 3683]]\n"
     ]
    }
   ],
   "source": [
    "# 성능 평가\n",
    "accuracy_rf = accuracy_score(y, y_pred_rf)\n",
    "classification_rf = classification_report(y, y_pred_rf)\n",
    "conf_matrix_rf = confusion_matrix(y, y_pred_rf)\n",
    "\n",
    "print(\"Best Parameters:\", grid_search.best_params_)\n",
    "print(\"Accuracy:\", accuracy_rf)\n",
    "print(\"Classification Report:\\n\", classification_rf)\n",
    "print(\"Confusion Matrix:\\n\", conf_matrix_rf)\n"
   ]
  },
  {
   "cell_type": "code",
   "execution_count": null,
   "id": "1e8cef96-3845-4d83-9e8e-11b6a8c28cf7",
   "metadata": {},
   "outputs": [],
   "source": []
  }
 ],
 "metadata": {
  "kernelspec": {
   "display_name": "Python 3 (ipykernel)",
   "language": "python",
   "name": "python3"
  },
  "language_info": {
   "codemirror_mode": {
    "name": "ipython",
    "version": 3
   },
   "file_extension": ".py",
   "mimetype": "text/x-python",
   "name": "python",
   "nbconvert_exporter": "python",
   "pygments_lexer": "ipython3",
   "version": "3.12.4"
  }
 },
 "nbformat": 4,
 "nbformat_minor": 5
}
