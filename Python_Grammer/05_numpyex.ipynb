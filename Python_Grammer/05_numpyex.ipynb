{
 "cells": [
  {
   "cell_type": "markdown",
   "id": "a904ec22-b546-4821-a491-094b0cac8a85",
   "metadata": {},
   "source": [
    "# numpyex"
   ]
  },
  {
   "cell_type": "markdown",
   "id": "b46540a7-ff13-4e45-ba70-e6921e04bba9",
   "metadata": {},
   "source": [
    "##### Numpy\n",
    "##### Numerical Python\n",
    "##### 고성능 수치 계산을 위한 라이브러리\n",
    "##### 벡터나 행렬 연산에 편리한 기능 제공\n",
    "##### 모든 원소는 같은 자료형만 가능"
   ]
  },
  {
   "cell_type": "code",
   "execution_count": 9,
   "id": "02c46ebc-e2bc-46b6-9c8c-bb539efaf89b",
   "metadata": {},
   "outputs": [
    {
     "name": "stdout",
     "output_type": "stream",
     "text": [
      "[ 0  1  2  3  4  5  6  7  8  9 10 11 12 13 14]\n",
      "[[ 0  3  6  9 12]\n",
      " [ 1  4  7 10 13]\n",
      " [ 2  5  8 11 14]]\n",
      "<class 'numpy.ndarray'>\n",
      "(3, 5)\n",
      "int32\n",
      "2\n",
      "15\n"
     ]
    }
   ],
   "source": [
    "import numpy as np\n",
    "a = np.arange(15)\n",
    "print(a)\n",
    "a = a.reshape(3, 5, order ='F')  # C 행부터 할당 F 열부터 할당\n",
    "print(a)\n",
    "print(type(a))\n",
    "print(a.shape)\n",
    "print(a.dtype)\n",
    "print(a.ndim)\n",
    "print(a.size)\n",
    "# print (dir(np))"
   ]
  },
  {
   "cell_type": "code",
   "execution_count": 51,
   "id": "7422218a-bac6-4e6b-8026-cb889dceed93",
   "metadata": {},
   "outputs": [
    {
     "name": "stdout",
     "output_type": "stream",
     "text": [
      "<class 'numpy.ndarray'>\n",
      "<class 'tuple'>\n",
      "<class 'numpy.ndarray'>\n",
      "<class 'set'>\n",
      "<class 'numpy.ndarray'>\n",
      "(10,)\n",
      "1\n",
      "int32\n",
      "[-1  2  5 -3  0  7 -9  7 -4 -7]\n",
      "[1 2 5 3 0 7 9 7 4 7]\n",
      "[1.         1.41421356 2.23606798 1.73205081 0.         2.64575131\n",
      " 3.         2.64575131 2.         2.64575131]\n",
      "[ 1  4 25  9  0 49 81 49 16 49]\n",
      "[False False False False False False False False False False]\n",
      "-3\n",
      "-0.3\n",
      "7\n",
      "-9\n",
      "5\n",
      "6\n",
      "[-9 -7 -4 -3 -1  0  2  5  7  7]\n",
      "[ 7  7  5  2  0 -1 -3 -4 -7 -9]\n"
     ]
    }
   ],
   "source": [
    "b = np.array([-1, 2, 5, -3, 0, 7, -9, 7, -4, -7]) # List\n",
    "print(type(b))\n",
    "\n",
    "t = (10, 20, 30, 40, 50)         # Tuple\n",
    "print(type(t))\n",
    "t = np.array(t)\n",
    "print(type(t))\n",
    "\n",
    "s = {10, 20, 30, 40, 50}         # Set\n",
    "print(type(s))\n",
    "s = np.array(s)                \n",
    "print(type(s))\n",
    "\n",
    "print(b.shape)\n",
    "print(b.ndim)\n",
    "print(b.dtype)\n",
    "print(b)\n",
    "\n",
    "# print(help(np.arange))\n",
    "\n",
    "print(np.abs(b))                # 절대값\n",
    "print(np.sqrt(np.abs(b)))       # 제곱근\n",
    "print(np.square(b))             # 제곱\n",
    "print(np.isnan(b))              # NaN 여부\n",
    "print(np.sum(b))                # 합계\n",
    "print(np.mean(b))               # 평균\n",
    "print(np.max(b))                # 최대값\n",
    "print(np.min(b))                # 최소값\n",
    "print( np.argmax(b))            # 최대값 인덱스\n",
    "print( np.argmin(b))            # 최소값 인덱스\n",
    "print(np.sort(b))               # 정렬 오름차순\n",
    "print(np.sort(b)[::-1])         # 정렬 내림차순  [start:end:step]"
   ]
  },
  {
   "cell_type": "code",
   "execution_count": null,
   "id": "2423dc3a-f80a-4482-8591-b0080c888cbe",
   "metadata": {},
   "outputs": [],
   "source": []
  }
 ],
 "metadata": {
  "kernelspec": {
   "display_name": "Python 3 (ipykernel)",
   "language": "python",
   "name": "python3"
  },
  "language_info": {
   "codemirror_mode": {
    "name": "ipython",
    "version": 3
   },
   "file_extension": ".py",
   "mimetype": "text/x-python",
   "name": "python",
   "nbconvert_exporter": "python",
   "pygments_lexer": "ipython3",
   "version": "3.12.4"
  }
 },
 "nbformat": 4,
 "nbformat_minor": 5
}
