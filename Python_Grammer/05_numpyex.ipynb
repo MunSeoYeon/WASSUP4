{
 "cells": [
  {
   "cell_type": "markdown",
   "id": "a904ec22-b546-4821-a491-094b0cac8a85",
   "metadata": {},
   "source": [
    "# numpyex"
   ]
  },
  {
   "cell_type": "markdown",
   "id": "b46540a7-ff13-4e45-ba70-e6921e04bba9",
   "metadata": {},
   "source": [
    "##### Numpy\n",
    "##### Numerical Python\n",
    "##### 고성능 수치 계산을 위한 라이브러리\n",
    "##### 벡터나 행렬 연산에 편리한 기능 제공\n",
    "##### 모든 원소는 같은 자료형만 가능"
   ]
  },
  {
   "cell_type": "code",
   "execution_count": 1,
   "id": "02c46ebc-e2bc-46b6-9c8c-bb539efaf89b",
   "metadata": {},
   "outputs": [
    {
     "name": "stdout",
     "output_type": "stream",
     "text": [
      "[ 0  1  2  3  4  5  6  7  8  9 10 11 12 13 14]\n",
      "[[ 0  3  6  9 12]\n",
      " [ 1  4  7 10 13]\n",
      " [ 2  5  8 11 14]]\n",
      "<class 'numpy.ndarray'>\n",
      "(3, 5)\n",
      "int32\n",
      "2\n",
      "15\n"
     ]
    }
   ],
   "source": [
    "import numpy as np\n",
    "a = np.arange(15)\n",
    "print(a)\n",
    "a = a.reshape(3, 5, order ='F')  # C 행부터 할당 F 열부터 할당\n",
    "print(a)\n",
    "print(type(a))\n",
    "print(a.shape)\n",
    "print(a.dtype)\n",
    "print(a.ndim)\n",
    "print(a.size)\n",
    "# print (dir(np))"
   ]
  },
  {
   "cell_type": "code",
   "execution_count": 2,
   "id": "7422218a-bac6-4e6b-8026-cb889dceed93",
   "metadata": {},
   "outputs": [
    {
     "name": "stdout",
     "output_type": "stream",
     "text": [
      "<class 'numpy.ndarray'>\n",
      "<class 'tuple'>\n",
      "<class 'numpy.ndarray'>\n",
      "<class 'set'>\n",
      "<class 'numpy.ndarray'>\n",
      "(10,)\n",
      "1\n",
      "int32\n",
      "[-1  2  5 -3  0  7 -9  7 -4 -7]\n",
      "[1 2 5 3 0 7 9 7 4 7]\n",
      "[1.         1.41421356 2.23606798 1.73205081 0.         2.64575131\n",
      " 3.         2.64575131 2.         2.64575131]\n",
      "[ 1  4 25  9  0 49 81 49 16 49]\n",
      "[False False False False False False False False False False]\n",
      "-3\n",
      "-0.3\n",
      "7\n",
      "-9\n",
      "5\n",
      "6\n",
      "[-9 -7 -4 -3 -1  0  2  5  7  7]\n",
      "[ 7  7  5  2  0 -1 -3 -4 -7 -9]\n",
      "-0.5\n"
     ]
    }
   ],
   "source": [
    "b = np.array([-1, 2, 5, -3, 0, 7, -9, 7, -4, -7]) # List\n",
    "print(type(b))\n",
    "\n",
    "t = (10, 20, 30, 40, 50)         # Tuple\n",
    "print(type(t))\n",
    "t = np.array(t)\n",
    "print(type(t))\n",
    "\n",
    "s = {10, 20, 30, 40, 50}         # Set\n",
    "print(type(s))\n",
    "s = np.array(s)                \n",
    "print(type(s))\n",
    "\n",
    "print(b.shape)\n",
    "print(b.ndim)\n",
    "print(b.dtype)\n",
    "print(b)\n",
    "\n",
    "# print(help(np.arange))\n",
    "\n",
    "print(np.abs(b))                # 절대값\n",
    "print(np.sqrt(np.abs(b)))       # 제곱근\n",
    "print(np.square(b))             # 제곱\n",
    "print(np.isnan(b))              # NaN 여부\n",
    "print(np.sum(b))                # 합계\n",
    "print(np.mean(b))               # 평균\n",
    "print(np.max(b))                # 최대값\n",
    "print(np.min(b))                # 최소값\n",
    "print( np.argmax(b))            # 최대값 인덱스\n",
    "print( np.argmin(b))            # 최소값 인덱스\n",
    "print(np.sort(b))               # 정렬 오름차순\n",
    "print(np.sort(b)[::-1])         # 정렬 내림차순  [start:end:step]\n",
    "print(np.median(b))             #결측값"
   ]
  },
  {
   "cell_type": "code",
   "execution_count": 3,
   "id": "2423dc3a-f80a-4482-8591-b0080c888cbe",
   "metadata": {},
   "outputs": [
    {
     "name": "stdout",
     "output_type": "stream",
     "text": [
      "<class 'list'>\n",
      "<class 'numpy.ndarray'>\n",
      "[[1 2 3]\n",
      " [4 5 6]]\n",
      "21\n",
      "[5 7 9]\n",
      "[ 6 15]\n",
      "[4 5 6]\n",
      "[3 6]\n",
      "1.707825127659933\n",
      "2.9166666666666665\n"
     ]
    }
   ],
   "source": [
    "c = [[1, 2, 3], [4, 5, 6]]\n",
    "print(type(c))\n",
    "c = np.array(c)\n",
    "print(type(c))\n",
    "print(c)\n",
    "\n",
    "print(np.sum(c))\n",
    "print(np.sum(c, axis=0))\n",
    "print(np.sum(c, axis=1))\n",
    "print(np.max(c, axis=0))\n",
    "print(np.max(c, axis=1))\n",
    "print(np.std(c))             #표준편차\n",
    "print(np.var(c))             #분산\n"
   ]
  },
  {
   "cell_type": "code",
   "execution_count": 4,
   "id": "07c210f3-5cd4-42c9-a3ff-df2e4013ab4a",
   "metadata": {},
   "outputs": [
    {
     "name": "stdout",
     "output_type": "stream",
     "text": [
      "[12 22 32 42 52]\n",
      "[11 22 33 44 55]\n",
      "[ 100  400  900 1600 2500]\n",
      "[ -5.44021111  18.25890501 -29.64094872  29.80452642 -13.11874269]\n",
      "[False False False  True  True]\n",
      "[11 22 33 44 55]\n",
      "[ 9 18 27 36 45]\n",
      "[ 10  40  90 160 250]\n",
      "[10. 10. 10. 10. 10.]\n"
     ]
    }
   ],
   "source": [
    "#element wise\n",
    "d = [10, 20, 30, 40, 50]\n",
    "#print(d+2)               #error\n",
    "d = np.array(d)\n",
    "print (d + 2)\n",
    "\n",
    "e = np.array([1, 2, 3, 4, 5])\n",
    "print(d+e)\n",
    "print(d**2)\n",
    "print(d*np.sin(d))\n",
    "print(d>35)\n",
    "\n",
    "print(np.add(d, e))\n",
    "print(np.subtract(d, e))\n",
    "print(np.multiply(d, e))\n",
    "print(np.divide(d, e))\n"
   ]
  },
  {
   "cell_type": "code",
   "execution_count": 5,
   "id": "a131f37c-d4ad-427f-86ea-41934dd03ee5",
   "metadata": {},
   "outputs": [
    {
     "ename": "TypeError",
     "evalue": "Field elements must be 2- or 3-tuples, got '1'",
     "output_type": "error",
     "traceback": [
      "\u001b[1;31m---------------------------------------------------------------------------\u001b[0m",
      "\u001b[1;31mTypeError\u001b[0m                                 Traceback (most recent call last)",
      "Cell \u001b[1;32mIn[5], line 1\u001b[0m\n\u001b[1;32m----> 1\u001b[0m f \u001b[38;5;241m=\u001b[39m np\u001b[38;5;241m.\u001b[39marray([\u001b[38;5;241m0\u001b[39m, \u001b[38;5;241m1\u001b[39m], [\u001b[38;5;241m1\u001b[39m, \u001b[38;5;241m1\u001b[39m])\n\u001b[0;32m      2\u001b[0m g \u001b[38;5;241m=\u001b[39m np\u001b[38;5;241m.\u001b[39marray([\u001b[38;5;241m2\u001b[39m, \u001b[38;5;241m0\u001b[39m], [\u001b[38;5;241m3\u001b[39m, \u001b[38;5;241m4\u001b[39m])\n\u001b[0;32m      3\u001b[0m \u001b[38;5;28mprint\u001b[39m(f\u001b[38;5;241m*\u001b[39mg)\n",
      "\u001b[1;31mTypeError\u001b[0m: Field elements must be 2- or 3-tuples, got '1'"
     ]
    }
   ],
   "source": [
    "f = np.array([0, 1], [1, 1])\n",
    "g = np.array([2, 0], [3, 4])\n",
    "print(f*g)\n",
    "print(f@g)             #행렬곱\n",
    "print(np.dot(f, g))    #행렬곱\n",
    "print(f.dot(g))"
   ]
  },
  {
   "cell_type": "code",
   "execution_count": 7,
   "id": "d5bfaaf3-4099-478f-a162-8f292ad07de1",
   "metadata": {},
   "outputs": [
    {
     "name": "stdout",
     "output_type": "stream",
     "text": [
      "[0. 0. 0. 0. 0. 0. 0. 0. 0. 0.]\n",
      "[[0. 0. 0. 0. 0.]\n",
      " [0. 0. 0. 0. 0.]\n",
      " [0. 0. 0. 0. 0.]\n",
      " [0. 0. 0. 0. 0.]\n",
      " [0. 0. 0. 0. 0.]]\n"
     ]
    }
   ],
   "source": [
    "h = np.zeros(10)\n",
    "print(h)\n",
    "i = np.zeros((5, 5))\n",
    "print(i)\n",
    "j = np.ones(10)\n",
    "print(j)"
   ]
  },
  {
   "cell_type": "code",
   "execution_count": null,
   "id": "95c958e3-b85d-48ba-9327-f49265a6ea5a",
   "metadata": {},
   "outputs": [],
   "source": []
  }
 ],
 "metadata": {
  "kernelspec": {
   "display_name": "Python 3 (ipykernel)",
   "language": "python",
   "name": "python3"
  },
  "language_info": {
   "codemirror_mode": {
    "name": "ipython",
    "version": 3
   },
   "file_extension": ".py",
   "mimetype": "text/x-python",
   "name": "python",
   "nbconvert_exporter": "python",
   "pygments_lexer": "ipython3",
   "version": "3.12.4"
  }
 },
 "nbformat": 4,
 "nbformat_minor": 5
}
